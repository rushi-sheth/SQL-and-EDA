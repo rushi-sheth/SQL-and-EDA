{
 "cells": [
  {
   "cell_type": "code",
   "execution_count": null,
   "metadata": {},
   "outputs": [],
   "source": [
    "'''\n",
    "    Creating DataFrames from existing semi-structured data. And working with these DataFrames.\n",
    "    \n",
    "    Task-1: Create a DataFrame \"nytDF1\" by reading the two files:\n",
    "            \"/scratch/ISE495/data/nyt_part1_1.json\" and \"/scratch/ISE495/data/nyt_part1_2.json\"\n",
    "    Task-2: Create another DataFrame \"nytDF2\" by reading the two files:\n",
    "            \"/scratch/ISE495/data/nyt_part2_1.json\" and \"/scratch/ISE495/data/nyt_part2_2.json\"\n",
    "    Task-3: Get acquainted with the schema of these two DataFrames.\n",
    "    Task-4: Find the number of books whose current rank is better than the last week's rank.\n",
    "    Task-5: Print the number of books per number of weeks on the best seller's list.\n",
    "            Print it in descending order for the number of weeks.\n",
    "            E.g., 100 books with '10' weeks on the list, 200 books with '8' week on the list etc.\n",
    "    Task-5: Find the number of books with price <= $25 and that are exactly one week on the best seller's list.\n",
    "    Task-6: Does price of a book have an affect on the book being on the best seller's list?\n",
    "    Task-7: How many unique authors are considered in the data?\n",
    "    Task-8: Is there any correlation between the authors and the price of their books?\n",
    "    Task-9: Are there any authors who are very well-known for being on the best seller's list?\n",
    "    Task-10: Consider top-4 authors based on the number of books per author in the given data.\n",
    "            For these authors, find number of books per number of weeks on the best seller's list\n",
    "            only for the books for which the price is between $15 and $22.50.\n",
    "'''"
   ]
  },
  {
   "cell_type": "code",
   "execution_count": 1,
   "metadata": {},
   "outputs": [],
   "source": [
    "import findspark\n",
    "findspark.init()\n",
    "import pyspark\n",
    "from pyspark import SparkContext\n",
    "from pyspark.sql import SparkSession, SQLContext\n",
    "from pyspark.sql.functions import array_contains\n"
   ]
  },
  {
   "cell_type": "code",
   "execution_count": 2,
   "metadata": {},
   "outputs": [
    {
     "name": "stdout",
     "output_type": "stream",
     "text": [
      "4214 rus217\n",
      "[('spark.ui.port', u'4214'), ('spark.port.maxRetries', u'200'), ('spark.cores.max', u'2'), ('spark.master', u'spark://polyp1:7077'), ('spark.executor.memory', u'512M'), ('spark.app.name', u'structuredComputation')]\n"
     ]
    }
   ],
   "source": [
    "import os\n",
    "port = 4040 + hash(os.getcwd().split(\"/\")[2])%200\n",
    "print port,     os.getcwd().split(\"/\")[2]\n",
    "\n",
    "config = pyspark.SparkConf().set('spark.executor.memory', '512M')\\\n",
    "            .set('spark.cores.max', '2')\\\n",
    "            .set('spark.port.maxRetries','200')\\\n",
    "            .set('spark.ui.port', port)\\\n",
    "            .set('spark.master', '')\\\n",
    "            .set('spark.app.name', \"structuredComputation\")\n",
    "print config.getAll()\n",
    "\n",
    "#sc = pyspark.SparkContext(appName=\"GettingStarted\", master='spark://polyp1:7077',conf = config)"
   ]
  },
  {
   "cell_type": "code",
   "execution_count": 3,
   "metadata": {},
   "outputs": [
    {
     "name": "stdout",
     "output_type": "stream",
     "text": [
      "structuredComputation\n",
      "spark://polyp1:7077\n"
     ]
    }
   ],
   "source": [
    "ss = pyspark.sql.SparkSession.builder.config(conf = config).getOrCreate()\n",
    "\n",
    "print ss.conf.get('spark.app.name')\n",
    "print ss.conf.get('spark.master')"
   ]
  },
  {
   "cell_type": "code",
   "execution_count": 4,
   "metadata": {},
   "outputs": [],
   "source": [
    "#### Input data\n",
    "sc = ss.sparkContext\n",
    "nytDF1_1 = ss.read.format('json').\\\n",
    "            load([\"/scratch/ISE495/data/nyt_part1_1.json\",\"/scratch/ISE495/data/nyt_part1_2.json\"])\n",
    "nytDF2_1 = ss.read.format('json').\\\n",
    "            load([\"/scratch/ISE495/data/nyt_part2_1.json\",\"/scratch/ISE495/data/nyt_part2_2.json\"])"
   ]
  },
  {
   "cell_type": "code",
   "execution_count": 5,
   "metadata": {},
   "outputs": [
    {
     "data": {
      "text/plain": [
       "[Row(_id=Row($oid=u'5b4aa4ead3089013507db18b'), amazon_product_url=u'http://www.amazon.com/Odd-Hours-Dean-Koontz/dp/0553807056?tag=NYTBS-20', author=u'Dean R Koontz', bestsellers_date=Row($date=Row($numberLong=u'1211587200000')), description=u'Odd Thomas, who can communicate with the dead, confronts evil forces in a California coastal town.', weeks_on_list=Row($numberInt=u'1'))]"
      ]
     },
     "execution_count": 5,
     "metadata": {},
     "output_type": "execute_result"
    }
   ],
   "source": [
    "nytDF1_1.take(1)"
   ]
  },
  {
   "cell_type": "code",
   "execution_count": 6,
   "metadata": {},
   "outputs": [
    {
     "data": {
      "text/plain": [
       "[Row(_id=Row($oid=u'5b4aa4ead3089013507db18b'), price=Row($numberDouble=None, $numberInt=u'27'), published_date=Row($date=Row($numberLong=u'1212883200000')), publisher=u'Bantam', rank=Row($numberInt=u'1'), rank_last_week=Row($numberInt=u'0'), title=u'ODD HOURS')]"
      ]
     },
     "execution_count": 6,
     "metadata": {},
     "output_type": "execute_result"
    }
   ],
   "source": [
    "nytDF2_1.take(1)"
   ]
  },
  {
   "cell_type": "markdown",
   "metadata": {},
   "source": [
    "   # Task-3: Get acquainted with the schema of these two DataFrames.\n",
    "    "
   ]
  },
  {
   "cell_type": "code",
   "execution_count": 7,
   "metadata": {},
   "outputs": [
    {
     "name": "stdout",
     "output_type": "stream",
     "text": [
      "The schema of nyt DF1 is: \n",
      "\n",
      "root\n",
      " |-- _id: struct (nullable = true)\n",
      " |    |-- $oid: string (nullable = true)\n",
      " |-- amazon_product_url: string (nullable = true)\n",
      " |-- author: string (nullable = true)\n",
      " |-- bestsellers_date: struct (nullable = true)\n",
      " |    |-- $date: struct (nullable = true)\n",
      " |    |    |-- $numberLong: string (nullable = true)\n",
      " |-- description: string (nullable = true)\n",
      " |-- weeks_on_list: struct (nullable = true)\n",
      " |    |-- $numberInt: string (nullable = true)\n",
      "\n",
      "None\n"
     ]
    }
   ],
   "source": [
    "print 'The schema of nyt DF1 is: \\n\\n',nytDF1_1.printSchema()"
   ]
  },
  {
   "cell_type": "code",
   "execution_count": 8,
   "metadata": {},
   "outputs": [
    {
     "name": "stdout",
     "output_type": "stream",
     "text": [
      "The schema of nyt DF2 is: \n",
      "\n",
      "root\n",
      " |-- _id: struct (nullable = true)\n",
      " |    |-- $oid: string (nullable = true)\n",
      " |-- price: struct (nullable = true)\n",
      " |    |-- $numberDouble: string (nullable = true)\n",
      " |    |-- $numberInt: string (nullable = true)\n",
      " |-- published_date: struct (nullable = true)\n",
      " |    |-- $date: struct (nullable = true)\n",
      " |    |    |-- $numberLong: string (nullable = true)\n",
      " |-- publisher: string (nullable = true)\n",
      " |-- rank: struct (nullable = true)\n",
      " |    |-- $numberInt: string (nullable = true)\n",
      " |-- rank_last_week: struct (nullable = true)\n",
      " |    |-- $numberInt: string (nullable = true)\n",
      " |-- title: string (nullable = true)\n",
      "\n",
      "None\n"
     ]
    }
   ],
   "source": [
    "print 'The schema of nyt DF2 is: \\n\\n',nytDF2_1.printSchema()"
   ]
  },
  {
   "cell_type": "code",
   "execution_count": 54,
   "metadata": {},
   "outputs": [],
   "source": [
    "def new(x):\n",
    "    return (x[0][0],float(max(x[1][0],x[1][1])),x[2][0][0],x[3],x[4][0],x[5][0],x[6])\n"
   ]
  },
  {
   "cell_type": "code",
   "execution_count": 55,
   "metadata": {},
   "outputs": [],
   "source": [
    "nyt2_new = nytDF2_1.rdd.map(new)"
   ]
  },
  {
   "cell_type": "code",
   "execution_count": 56,
   "metadata": {},
   "outputs": [],
   "source": [
    "nyt2_2 = nyt2_new.toDF(['id','price','published_date','publisher','rank','rank_last_week','title'])"
   ]
  },
  {
   "cell_type": "code",
   "execution_count": 57,
   "metadata": {},
   "outputs": [
    {
     "name": "stdout",
     "output_type": "stream",
     "text": [
      "+--------------------+--------------------+-----------------+-----------------+--------------------+-------------+\n",
      "|                 _id|  amazon_product_url|           author| bestsellers_date|         description|weeks_on_list|\n",
      "+--------------------+--------------------+-----------------+-----------------+--------------------+-------------+\n",
      "|[5b4aa4ead3089013...|http://www.amazon...|    Dean R Koontz|[[1211587200000]]|Odd Thomas, who c...|          [1]|\n",
      "|[5b4aa4ead3089013...|http://www.amazon...|  Stephenie Meyer|[[1211587200000]]|Aliens have taken...|          [3]|\n",
      "|[5b4aa4ead3089013...|http://www.amazon...|     Emily Giffin|[[1211587200000]]|A woman's happy m...|          [2]|\n",
      "|[5b4aa4ead3089013...|http://www.amazon...|Patricia Cornwell|[[1211587200000]]|A Massachusetts s...|          [1]|\n",
      "|[5b4aa4ead3089013...|http://www.amazon...|  Chuck Palahniuk|[[1211587200000]]|An aging porn que...|          [1]|\n",
      "+--------------------+--------------------+-----------------+-----------------+--------------------+-------------+\n",
      "only showing top 5 rows\n",
      "\n"
     ]
    }
   ],
   "source": [
    "nytDF1_1.show(5)"
   ]
  },
  {
   "cell_type": "code",
   "execution_count": 58,
   "metadata": {},
   "outputs": [
    {
     "name": "stdout",
     "output_type": "stream",
     "text": [
      "+--------------------+------------+-----------------+-------------+----+--------------+--------------------+\n",
      "|                 _id|       price|   published_date|    publisher|rank|rank_last_week|               title|\n",
      "+--------------------+------------+-----------------+-------------+----+--------------+--------------------+\n",
      "|[5b4aa4ead3089013...|   [null,27]|[[1212883200000]]|       Bantam| [1]|           [0]|           ODD HOURS|\n",
      "|[5b4aa4ead3089013...|[25.99,null]|[[1212883200000]]|Little, Brown| [2]|           [1]|            THE HOST|\n",
      "|[5b4aa4ead3089013...|[24.95,null]|[[1212883200000]]| St. Martin's| [3]|           [2]|LOVE THE ONE YOU'...|\n",
      "|[5b4aa4ead3089013...|[22.95,null]|[[1212883200000]]|       Putnam| [4]|           [0]|           THE FRONT|\n",
      "|[5b4aa4ead3089013...|[24.95,null]|[[1212883200000]]|    Doubleday| [5]|           [0]|               SNUFF|\n",
      "+--------------------+------------+-----------------+-------------+----+--------------+--------------------+\n",
      "only showing top 5 rows\n",
      "\n"
     ]
    }
   ],
   "source": [
    "nytDF2_1.show(5)"
   ]
  },
  {
   "cell_type": "code",
   "execution_count": 59,
   "metadata": {},
   "outputs": [
    {
     "name": "stdout",
     "output_type": "stream",
     "text": [
      "+--------------------+-----+--------------+-------------+----+--------------+--------------------+\n",
      "|                  id|price|published_date|    publisher|rank|rank_last_week|               title|\n",
      "+--------------------+-----+--------------+-------------+----+--------------+--------------------+\n",
      "|5b4aa4ead30890135...| 27.0| 1212883200000|       Bantam|   1|             0|           ODD HOURS|\n",
      "|5b4aa4ead30890135...|25.99| 1212883200000|Little, Brown|   2|             1|            THE HOST|\n",
      "|5b4aa4ead30890135...|24.95| 1212883200000| St. Martin's|   3|             2|LOVE THE ONE YOU'...|\n",
      "|5b4aa4ead30890135...|22.95| 1212883200000|       Putnam|   4|             0|           THE FRONT|\n",
      "|5b4aa4ead30890135...|24.95| 1212883200000|    Doubleday|   5|             0|               SNUFF|\n",
      "|5b4aa4ead30890135...|24.99| 1212883200000|Little, Brown|   6|             3|SUNDAYS AT TIFFANY’S|\n",
      "|5b4aa4ead30890135...|26.95| 1212883200000|       Putnam|   7|             4|        PHANTOM PREY|\n",
      "|5b4aa4ead30890135...|21.99| 1212883200000|Little, Brown|   8|             6|          SWINE NOT?|\n",
      "|5b4aa4ead30890135...|27.95| 1212883200000|       Harper|   9|             8|     CARELESS IN RED|\n",
      "|5b4aa4ead30890135...|26.99| 1212883200000|Grand Central|  10|             7|     THE WHOLE TRUTH|\n",
      "+--------------------+-----+--------------+-------------+----+--------------+--------------------+\n",
      "only showing top 10 rows\n",
      "\n"
     ]
    }
   ],
   "source": [
    "nyt2_2.show(10)"
   ]
  },
  {
   "cell_type": "markdown",
   "metadata": {},
   "source": [
    " # Task-4: Find the number of books whose current rank is better than the last week's rank.\n",
    "  "
   ]
  },
  {
   "cell_type": "code",
   "execution_count": 60,
   "metadata": {},
   "outputs": [],
   "source": [
    "nytDF2_2 = nytDF2_1.rdd\\\n",
    "                   .map(lambda x: (x['_id'][0],x['price'],x['published_date'][0][0],x['publisher'],int(x['rank'][0]),int(x['rank_last_week'][0])\\\n",
    "                                  ,x['title'])).toDF(['id','price','published_date','publisher','rank','rank_last_week','title'])"
   ]
  },
  {
   "cell_type": "code",
   "execution_count": 61,
   "metadata": {},
   "outputs": [],
   "source": [
    "nytDF1_2 = nytDF1_1.rdd\\\n",
    "                   .map(lambda x:(x['_id'][0],x['amazon_product_url'],x['author'],x['bestsellers_date'][0][0],x['description'],int(x['weeks_on_list'][0]))).\\\n",
    "                    toDF(['id','amazon_product_url','author','bestsellers_date','description','weeks_on_list'])"
   ]
  },
  {
   "cell_type": "code",
   "execution_count": 62,
   "metadata": {},
   "outputs": [
    {
     "name": "stdout",
     "output_type": "stream",
     "text": [
      "+--------------------+--------------------+-----------------+----------------+--------------------+-------------+\n",
      "|                  id|  amazon_product_url|           author|bestsellers_date|         description|weeks_on_list|\n",
      "+--------------------+--------------------+-----------------+----------------+--------------------+-------------+\n",
      "|5b4aa4ead30890135...|http://www.amazon...|    Dean R Koontz|   1211587200000|Odd Thomas, who c...|            1|\n",
      "|5b4aa4ead30890135...|http://www.amazon...|  Stephenie Meyer|   1211587200000|Aliens have taken...|            3|\n",
      "|5b4aa4ead30890135...|http://www.amazon...|     Emily Giffin|   1211587200000|A woman's happy m...|            2|\n",
      "|5b4aa4ead30890135...|http://www.amazon...|Patricia Cornwell|   1211587200000|A Massachusetts s...|            1|\n",
      "|5b4aa4ead30890135...|http://www.amazon...|  Chuck Palahniuk|   1211587200000|An aging porn que...|            1|\n",
      "+--------------------+--------------------+-----------------+----------------+--------------------+-------------+\n",
      "only showing top 5 rows\n",
      "\n"
     ]
    }
   ],
   "source": [
    "nytDF1_2.show(5)"
   ]
  },
  {
   "cell_type": "code",
   "execution_count": 63,
   "metadata": {},
   "outputs": [
    {
     "name": "stdout",
     "output_type": "stream",
     "text": [
      "+--------------------+-----+--------------+-------------+----+--------------+--------------------+\n",
      "|                  id|price|published_date|    publisher|rank|rank_last_week|               title|\n",
      "+--------------------+-----+--------------+-------------+----+--------------+--------------------+\n",
      "|5b4aa4ead30890135...| 27.0| 1212883200000|       Bantam|   1|             0|           ODD HOURS|\n",
      "|5b4aa4ead30890135...|25.99| 1212883200000|Little, Brown|   2|             1|            THE HOST|\n",
      "|5b4aa4ead30890135...|24.95| 1212883200000| St. Martin's|   3|             2|LOVE THE ONE YOU'...|\n",
      "|5b4aa4ead30890135...|22.95| 1212883200000|       Putnam|   4|             0|           THE FRONT|\n",
      "|5b4aa4ead30890135...|24.95| 1212883200000|    Doubleday|   5|             0|               SNUFF|\n",
      "+--------------------+-----+--------------+-------------+----+--------------+--------------------+\n",
      "only showing top 5 rows\n",
      "\n"
     ]
    }
   ],
   "source": [
    "nyt2_2.show(5)"
   ]
  },
  {
   "cell_type": "code",
   "execution_count": 64,
   "metadata": {},
   "outputs": [],
   "source": [
    "nytDF1_1.createOrReplaceTempView('nyt1')\n",
    "nyt2_2.createOrReplaceTempView('nyt2')"
   ]
  },
  {
   "cell_type": "code",
   "execution_count": 65,
   "metadata": {},
   "outputs": [
    {
     "name": "stdout",
     "output_type": "stream",
     "text": [
      "+------------------+\n",
      "|count(DISTINCT id)|\n",
      "+------------------+\n",
      "|              1993|\n",
      "+------------------+\n",
      "\n"
     ]
    }
   ],
   "source": [
    "ss.sql('SELECT COUNT(DISTINCT id) FROM nyt2 WHERE rank < rank_last_week').show()"
   ]
  },
  {
   "cell_type": "markdown",
   "metadata": {},
   "source": [
    " # Task-5: Print the number of books per number of weeks on the best seller's list.\n",
    "Print it in descending order for the number of weeks.\n",
    "E.g., 100 books with '10' weeks on the list, 200 books with '8' week on the list etc.\n",
    "   "
   ]
  },
  {
   "cell_type": "code",
   "execution_count": 22,
   "metadata": {},
   "outputs": [
    {
     "name": "stdout",
     "output_type": "stream",
     "text": [
      "+---------+-------------+\n",
      "|count(id)|weeks_on_list|\n",
      "+---------+-------------+\n",
      "|        1|          134|\n",
      "|        1|          133|\n",
      "|        1|          132|\n",
      "|        1|          131|\n",
      "|        1|          130|\n",
      "|        1|          129|\n",
      "|        1|          128|\n",
      "|        1|          127|\n",
      "|        1|          126|\n",
      "|        1|          125|\n",
      "+---------+-------------+\n",
      "only showing top 10 rows\n",
      "\n"
     ]
    }
   ],
   "source": [
    "ss.sql('SELECT COUNT(id),weeks_on_list FROM nyt1 GROUP BY weeks_on_list ORDER BY weeks_on_list DESC ').show(10)"
   ]
  },
  {
   "cell_type": "markdown",
   "metadata": {},
   "source": [
    "# Task-6 : Find the number of books with price less than 25 and that are exactly one week on the best seller's list.\n",
    "   "
   ]
  },
  {
   "cell_type": "code",
   "execution_count": 67,
   "metadata": {},
   "outputs": [],
   "source": [
    "comp = nytDF1_2.join(nyt2_2, nytDF1_2.id == nyt2_2.id,'INNER').select(nytDF1_2[\"id\"],nytDF1_2[\"weeks_on_list\"],nytDF1_2[\"author\"],\\\n",
    "                                                                      nyt2_2[\"price\"],nyt2_2[\"rank\"],nyt2_2[\"rank_last_week\"])"
   ]
  },
  {
   "cell_type": "code",
   "execution_count": 68,
   "metadata": {},
   "outputs": [
    {
     "data": {
      "text/plain": [
       "['id', 'weeks_on_list', 'author', 'price', 'rank', 'rank_last_week']"
      ]
     },
     "execution_count": 68,
     "metadata": {},
     "output_type": "execute_result"
    }
   ],
   "source": [
    "comp.columns"
   ]
  },
  {
   "cell_type": "code",
   "execution_count": 69,
   "metadata": {},
   "outputs": [
    {
     "data": {
      "text/plain": [
       "1177"
      ]
     },
     "execution_count": 69,
     "metadata": {},
     "output_type": "execute_result"
    }
   ],
   "source": [
    "comp.filter('weeks_on_list= 1').filter('price < 25').count()"
   ]
  },
  {
   "cell_type": "markdown",
   "metadata": {},
   "source": [
    " # Task-7: Does price of a book have an affect on the book being on the best seller's list?\n",
    "   "
   ]
  },
  {
   "cell_type": "code",
   "execution_count": 70,
   "metadata": {},
   "outputs": [
    {
     "data": {
      "text/plain": [
       "0.026038356119044665"
      ]
     },
     "execution_count": 70,
     "metadata": {},
     "output_type": "execute_result"
    }
   ],
   "source": [
    "comp.corr('price','weeks_on_list')"
   ]
  },
  {
   "cell_type": "code",
   "execution_count": 27,
   "metadata": {},
   "outputs": [
    {
     "name": "stdout",
     "output_type": "stream",
     "text": [
      "+--------------------+-------------+-----------+-----+----+--------------+\n",
      "|                  id|weeks_on_list|     author|price|rank|rank_last_week|\n",
      "+--------------------+-------------+-----------+-----+----+--------------+\n",
      "|5b4aa4ead30890135...|            7|Ken Follett|   36|   8|            10|\n",
      "|5b4aa4ead30890135...|            5|Ken Follett|   36|   7|             5|\n",
      "|5b4aa4ead30890135...|            4|Ken Follett|   36|   5|             2|\n",
      "|5b4aa4ead30890135...|           12|Ken Follett|   36|   8|             9|\n",
      "|5b4aa4ead30890135...|            6|Ken Follett|   36|   8|             7|\n",
      "|5b4aa4ead30890135...|            5|Ken Follett|   36|   7|             4|\n",
      "|5b4aa4ead30890135...|            2|Ken Follett|   36|   2|             1|\n",
      "|5b4aa4ead30890135...|           10|Ken Follett|   36|   7|             9|\n",
      "|5b4aa4ead30890135...|            2|Ken Follett|   36|   2|             1|\n",
      "|5b4aa4ead30890135...|           11|Ken Follett|   36|  13|            13|\n",
      "+--------------------+-------------+-----------+-----+----+--------------+\n",
      "only showing top 10 rows\n",
      "\n"
     ]
    }
   ],
   "source": [
    "comp.orderBy('price', ascending = False).show(10)"
   ]
  },
  {
   "cell_type": "code",
   "execution_count": 46,
   "metadata": {},
   "outputs": [
    {
     "name": "stdout",
     "output_type": "stream",
     "text": [
      "+--------------------+-------------+---------------+-----+----+--------------+\n",
      "|                  id|weeks_on_list|         author|price|rank|rank_last_week|\n",
      "+--------------------+-------------+---------------+-----+----+--------------+\n",
      "|5b4aa4ead30890135...|            1|   Stephen King|14.99|   9|             0|\n",
      "|5b4aa4ead30890135...|            3|   Stephen King|14.99|  16|            13|\n",
      "|5b4aa4ead30890135...|            2|   Stephen King|14.99|  13|             9|\n",
      "|5b4aa4ead30890135...|            3|Debbie Macomber|16.95|  14|            13|\n",
      "|5b4aa4ead30890135...|            1|   Lisa Kleypas|16.95|   9|             0|\n",
      "|5b4aa4ead30890135...|            1|Debbie Macomber|16.95|   2|             0|\n",
      "|5b4aa4ead30890135...|            2|Debbie Macomber|16.95|   8|             2|\n",
      "|5b4aa4ead30890135...|            1|Debbie Macomber|16.95|  14|             0|\n",
      "|5b4aa4ead30890135...|            4|Debbie Macomber|16.95|  15|            10|\n",
      "|5b4aa4ead30890135...|            1|Debbie Macomber|16.95|   7|             0|\n",
      "+--------------------+-------------+---------------+-----+----+--------------+\n",
      "only showing top 10 rows\n",
      "\n"
     ]
    }
   ],
   "source": [
    "comp.filter('price > 0').orderBy('price', ascending = True).show(10)"
   ]
  },
  {
   "cell_type": "code",
   "execution_count": 32,
   "metadata": {},
   "outputs": [
    {
     "name": "stdout",
     "output_type": "stream",
     "text": [
      "+--------------------+-------------+----------------+-----+----+--------------+\n",
      "|                  id|weeks_on_list|          author|price|rank|rank_last_week|\n",
      "+--------------------+-------------+----------------+-----+----+--------------+\n",
      "|5b4aa4ead30890135...|          108|Kathryn Stockett|24.95|  13|             9|\n",
      "|5b4aa4ead30890135...|          107|Kathryn Stockett|24.95|   9|             8|\n",
      "|5b4aa4ead30890135...|          106|Kathryn Stockett|24.95|   8|             4|\n",
      "|5b4aa4ead30890135...|          105|Kathryn Stockett|24.95|   4|            11|\n",
      "|5b4aa4ead30890135...|          104|Kathryn Stockett|24.95|  11|             0|\n",
      "|5b4aa4ead30890135...|          103|Kathryn Stockett|24.95|  12|            14|\n",
      "|5b4aa4ead30890135...|          102|Kathryn Stockett|24.95|  14|            12|\n",
      "|5b4aa4ead30890135...|          101|Kathryn Stockett|24.95|  12|             8|\n",
      "|5b4aa4ead30890135...|          100|Kathryn Stockett|24.95|   8|             4|\n",
      "|5b4aa4ead30890135...|           99|Kathryn Stockett|24.95|   4|             4|\n",
      "+--------------------+-------------+----------------+-----+----+--------------+\n",
      "only showing top 10 rows\n",
      "\n"
     ]
    }
   ],
   "source": [
    "comp.orderBy('weeks_on_list', ascending = False).filter('price>0').show(10)"
   ]
  },
  {
   "cell_type": "code",
   "execution_count": 47,
   "metadata": {},
   "outputs": [
    {
     "name": "stdout",
     "output_type": "stream",
     "text": [
      "+--------------------+-------------+--------------------+-----+----+--------------+\n",
      "|                  id|weeks_on_list|              author|price|rank|rank_last_week|\n",
      "+--------------------+-------------+--------------------+-----+----+--------------+\n",
      "|5b4aa4ead30890135...|            1|       Kate Atkinson|27.99|   3|             0|\n",
      "|5b4aa4ead30890135...|            1|           Brad Thor|27.99|   4|             0|\n",
      "|5b4aa4ead30890135...|            1|Susan Elizabeth P...|25.99|   5|             0|\n",
      "|5b4aa4ead30890135...|            1|       Karen Traviss|   20|  13|             0|\n",
      "|5b4aa4ead30890135...|            1|James Patterson a...|27.99|   1|             0|\n",
      "|5b4aa4ead30890135...|            1|Clive Cussler wit...|27.95|   4|             0|\n",
      "|5b4aa4ead30890135...|            1|        Lev Grossman|26.95|   8|             0|\n",
      "|5b4aa4ead30890135...|            1|    Michael Connelly|27.99|   1|             0|\n",
      "|5b4aa4ead30890135...|            1|    Adriana Trigiani|25.99|   9|             0|\n",
      "|5b4aa4ead30890135...|            1|        Kresley Cole|   25|   9|             0|\n",
      "+--------------------+-------------+--------------------+-----+----+--------------+\n",
      "only showing top 10 rows\n",
      "\n"
     ]
    }
   ],
   "source": [
    "comp.orderBy('weeks_on_list', ascending = True).filter('price>0').show(10)"
   ]
  },
  {
   "cell_type": "code",
   "execution_count": 29,
   "metadata": {},
   "outputs": [
    {
     "name": "stdout",
     "output_type": "stream",
     "text": [
      "There does not seem to be any relation of price and best seller week.\n"
     ]
    }
   ],
   "source": [
    "print 'There does not seem to be any relation of price and best seller week.'"
   ]
  },
  {
   "cell_type": "markdown",
   "metadata": {},
   "source": [
    " # Task-8: How many unique authors are considered in the data?\n",
    " "
   ]
  },
  {
   "cell_type": "code",
   "execution_count": 192,
   "metadata": {},
   "outputs": [
    {
     "name": "stdout",
     "output_type": "stream",
     "text": [
      "+----------------------+\n",
      "|count(DISTINCT author)|\n",
      "+----------------------+\n",
      "|                   738|\n",
      "+----------------------+\n",
      "\n"
     ]
    }
   ],
   "source": [
    "ss.sql('SELECT COUNT(DISTINCT author) FROM nyt1').show()"
   ]
  },
  {
   "cell_type": "markdown",
   "metadata": {},
   "source": [
    "  # Task-9: Is there any correlation between the authors and the price of their books?\n",
    "  "
   ]
  },
  {
   "cell_type": "code",
   "execution_count": 329,
   "metadata": {},
   "outputs": [
    {
     "name": "stdout",
     "output_type": "stream",
     "text": [
      "+--------------------+------------------+\n",
      "|              author|        avg(price)|\n",
      "+--------------------+------------------+\n",
      "|    Elin Hilderbrand| 5.015344827586207|\n",
      "|         Lisa Genova|               0.0|\n",
      "|   Sharon Kay Penman|            14.475|\n",
      "|          James Frey|            13.475|\n",
      "|        Will Allison|               0.0|\n",
      "|   Patricia Cornwell|16.002343750000005|\n",
      "|          Tea Obreht|16.666666666666668|\n",
      "|       Laurie R King|16.833333333333332|\n",
      "|        Sarah Dunant|               0.0|\n",
      "|        Tim Johnston|               0.0|\n",
      "|Tom Clancy with P...|22.516666666666666|\n",
      "|          Sara Gruen|               6.0|\n",
      "|        Terry Brooks|15.736842105263158|\n",
      "|        Lisa Wingate|               0.0|\n",
      "|         Andre Dubus|               0.0|\n",
      "|        Daniel Silva|11.030144927536236|\n",
      "|Karen White, Beat...|               0.0|\n",
      "|      Rachel Kushner|               0.0|\n",
      "|      Jackie Collins|19.415714285714284|\n",
      "|          Ann B Ross|               0.0|\n",
      "+--------------------+------------------+\n",
      "only showing top 20 rows\n",
      "\n"
     ]
    }
   ],
   "source": [
    "comp.groupby('author').agg({'price': 'mean'}).show()"
   ]
  },
  {
   "cell_type": "markdown",
   "metadata": {},
   "source": [
    "# Task-10: Are there any authors who are very well-known for being on the best seller's list?\n",
    "    "
   ]
  },
  {
   "cell_type": "code",
   "execution_count": 204,
   "metadata": {},
   "outputs": [
    {
     "name": "stdout",
     "output_type": "stream",
     "text": [
      "I interpret this question as \"Show top authors based on the number of weeks their books were in the list\"\n",
      "\n",
      "\n",
      "+-----------------+------------------+\n",
      "|           author|sum(weeks_on_list)|\n",
      "+-----------------+------------------+\n",
      "|    Anthony Doerr|              9045|\n",
      "| Kathryn Stockett|              5886|\n",
      "|George R R Martin|              3796|\n",
      "|   Kristin Hannah|              3619|\n",
      "|    Stieg Larsson|              3406|\n",
      "|    Paula Hawkins|              3313|\n",
      "|    Gillian Flynn|              3240|\n",
      "|     John Grisham|              1994|\n",
      "|  Stephenie Meyer|              1858|\n",
      "|      Donna Tartt|              1830|\n",
      "+-----------------+------------------+\n",
      "only showing top 10 rows\n",
      "\n"
     ]
    }
   ],
   "source": [
    "print 'I interpret this question as \"Show top authors based on the number of weeks their books were in the list\"\\n\\n'\n",
    "ss.sql('SELECT author,SUM(weeks_on_list) FROM nyt1 GROUP BY author ORDER BY SUM(weeks_on_list) DESC').show(10)"
   ]
  },
  {
   "cell_type": "markdown",
   "metadata": {},
   "source": [
    "# Task-11: Consider top-4 authors based on the number of books per author in the given data.\n",
    "For these authors, find number of books per number of weeks on the best seller's list\n",
    "only for the books for which the price is between $15 and $22.50."
   ]
  },
  {
   "cell_type": "code",
   "execution_count": 223,
   "metadata": {},
   "outputs": [
    {
     "name": "stdout",
     "output_type": "stream",
     "text": [
      "+------------------+--------------+\n",
      "|count(DISTINCT id)|        author|\n",
      "+------------------+--------------+\n",
      "|               226|  John Grisham|\n",
      "|               222|David Baldacci|\n",
      "|               174|Danielle Steel|\n",
      "|               157|  Stephen King|\n",
      "+------------------+--------------+\n",
      "only showing top 4 rows\n",
      "\n"
     ]
    }
   ],
   "source": [
    "ss.sql('SELECT COUNT(DISTINCT id),author FROM nyt1 GROUP BY author ORDER BY COUNT(id) DESC').show(4) "
   ]
  },
  {
   "cell_type": "code",
   "execution_count": 335,
   "metadata": {},
   "outputs": [
    {
     "name": "stdout",
     "output_type": "stream",
     "text": [
      "+--------------------+---------+\n",
      "|              author|count(id)|\n",
      "+--------------------+---------+\n",
      "|        John Grisham|      226|\n",
      "|      David Baldacci|      222|\n",
      "|      Danielle Steel|      174|\n",
      "|        Stephen King|      157|\n",
      "|       Anthony Doerr|      141|\n",
      "|     Nicholas Sparks|      136|\n",
      "|      Kristin Hannah|      128|\n",
      "|       Stieg Larsson|      121|\n",
      "|James Patterson a...|      119|\n",
      "|   George R R Martin|      119|\n",
      "|     James Patterson|      115|\n",
      "|    Kathryn Stockett|      114|\n",
      "|     Janet Evanovich|      111|\n",
      "|        Stuart Woods|      107|\n",
      "|       John Sandford|      107|\n",
      "|    Michael Connelly|      104|\n",
      "|       Paula Hawkins|       97|\n",
      "|    Charlaine Harris|       94|\n",
      "|           Lee Child|       94|\n",
      "|        Jodi Picoult|       90|\n",
      "+--------------------+---------+\n",
      "only showing top 20 rows\n",
      "\n"
     ]
    }
   ],
   "source": [
    "comp.groupby('author').agg({'id':'count'}).sort('count(id)',ascending=False).show()"
   ]
  },
  {
   "cell_type": "markdown",
   "metadata": {},
   "source": [
    "# For these authors, find number of books per number of weeks on the best seller's list only for the books for which the price is between 15 and 22.50."
   ]
  },
  {
   "cell_type": "code",
   "execution_count": 34,
   "metadata": {},
   "outputs": [
    {
     "name": "stdout",
     "output_type": "stream",
     "text": [
      "+--------------+\n",
      "|        author|\n",
      "+--------------+\n",
      "|  John Grisham|\n",
      "|David Baldacci|\n",
      "|Danielle Steel|\n",
      "|  Stephen King|\n",
      "+--------------+\n",
      "only showing top 4 rows\n",
      "\n"
     ]
    }
   ],
   "source": [
    "comp.groupby('author').agg({'id':'count'}).sort('count(id)',ascending=False).select('author').show(4)"
   ]
  },
  {
   "cell_type": "code",
   "execution_count": 35,
   "metadata": {},
   "outputs": [],
   "source": [
    "top4 = ['John Grisham','David Baldacci','Danielle Steel','Stephen King']"
   ]
  },
  {
   "cell_type": "code",
   "execution_count": 36,
   "metadata": {
    "scrolled": true
   },
   "outputs": [
    {
     "name": "stdout",
     "output_type": "stream",
     "text": [
      "+---+-------------+------+-----+----+--------------+\n",
      "| id|weeks_on_list|author|price|rank|rank_last_week|\n",
      "+---+-------------+------+-----+----+--------------+\n",
      "+---+-------------+------+-----+----+--------------+\n",
      "\n"
     ]
    }
   ],
   "source": [
    "comp.filter(comp.author.isin(top4)).filter('price >= 15').filter('price <= 22.50').sort('price').show()"
   ]
  },
  {
   "cell_type": "code",
   "execution_count": 80,
   "metadata": {},
   "outputs": [
    {
     "name": "stdout",
     "output_type": "stream",
     "text": [
      "+--------------------+-------------+------------+-----+----+--------------+\n",
      "|                  id|weeks_on_list|      author|price|rank|rank_last_week|\n",
      "+--------------------+-------------+------------+-----+----+--------------+\n",
      "|5b4aa4ead30890135...|            6|John Grisham| 24.0|   9|             7|\n",
      "|5b4aa4ead30890135...|            7|John Grisham| 24.0|   7|             9|\n",
      "+--------------------+-------------+------------+-----+----+--------------+\n",
      "only showing top 2 rows\n",
      "\n"
     ]
    }
   ],
   "source": [
    "comp.filter(comp.author.isin(top4)).filter('price > 22.5').sort('price',ascending = True).show(2)"
   ]
  },
  {
   "cell_type": "code",
   "execution_count": 82,
   "metadata": {},
   "outputs": [
    {
     "name": "stdout",
     "output_type": "stream",
     "text": [
      "+--------------------+-------------+------------+-----+----+--------------+\n",
      "|                  id|weeks_on_list|      author|price|rank|rank_last_week|\n",
      "+--------------------+-------------+------------+-----+----+--------------+\n",
      "|5b4aa4ead30890135...|            3|Stephen King|14.99|  16|            13|\n",
      "|5b4aa4ead30890135...|            2|Stephen King|14.99|  13|             9|\n",
      "|5b4aa4ead30890135...|            1|Stephen King|14.99|   9|             0|\n",
      "|5b4aa4ead30890135...|            1|John Grisham| 24.0|   1|             0|\n",
      "|5b4aa4ead30890135...|            3|John Grisham| 24.0|   4|             3|\n",
      "|5b4aa4ead30890135...|           10|John Grisham| 24.0|  16|            13|\n",
      "|5b4aa4ead30890135...|            4|John Grisham| 24.0|   6|             4|\n",
      "|5b4aa4ead30890135...|            5|John Grisham| 24.0|   7|             6|\n",
      "|5b4aa4ead30890135...|            7|John Grisham| 24.0|   7|             9|\n",
      "|5b4aa4ead30890135...|            6|John Grisham| 24.0|   9|             7|\n",
      "+--------------------+-------------+------------+-----+----+--------------+\n",
      "only showing top 10 rows\n",
      "\n"
     ]
    }
   ],
   "source": [
    "comp.filter(comp.author.isin(top4)).filter('price < 25').filter('price > 14').sort('price',ascending = True).show(10)"
   ]
  },
  {
   "cell_type": "code",
   "execution_count": 357,
   "metadata": {},
   "outputs": [],
   "source": [
    "sc.stop()"
   ]
  }
 ],
 "metadata": {
  "kernelspec": {
   "display_name": "Python 3",
   "language": "python",
   "name": "python3"
  },
  "language_info": {
   "codemirror_mode": {
    "name": "ipython",
    "version": 3
   },
   "file_extension": ".py",
   "mimetype": "text/x-python",
   "name": "python",
   "nbconvert_exporter": "python",
   "pygments_lexer": "ipython3",
   "version": "3.6.4"
  }
 },
 "nbformat": 4,
 "nbformat_minor": 2
}
