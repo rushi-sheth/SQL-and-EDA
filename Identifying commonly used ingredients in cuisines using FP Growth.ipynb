{
 "cells": [
  {
   "cell_type": "markdown",
   "metadata": {},
   "source": [
    "Experimenting Frequent Pattern (FP-Growth) algortihm "
   ]
  },
  {
   "cell_type": "code",
   "execution_count": 1,
   "metadata": {},
   "outputs": [],
   "source": [
    "import findspark\n",
    "findspark.init()\n",
    "import pyspark\n",
    "from pyspark.mllib.fpm import FPGrowth\n",
    "import re\n",
    "from random import random\n",
    "from pyspark import SparkContext"
   ]
  },
  {
   "cell_type": "code",
   "execution_count": 46,
   "metadata": {},
   "outputs": [
    {
     "name": "stdout",
     "output_type": "stream",
     "text": [
      "4214 rus217\n"
     ]
    }
   ],
   "source": [
    "import os\n",
    "port = 4040 + hash(os.getcwd().split(\"/\")[2])%200\n",
    "config = pyspark.SparkConf().set('spark.executor.memory', '512M')\\\n",
    "         .set('spark.cores.max', '2')\\\n",
    "         .set('spark.port.maxRetries','200')\\\n",
    "         .set('spark.ui.port', port)    \n",
    "print port,     os.getcwd().split(\"/\")[2]\n",
    "sc = pyspark.SparkContext(appName=\"FP ingredient\", master='',conf = config )"
   ]
  },
  {
   "cell_type": "code",
   "execution_count": 45,
   "metadata": {},
   "outputs": [],
   "source": [
    "sc.stop()"
   ]
  },
  {
   "cell_type": "code",
   "execution_count": 48,
   "metadata": {},
   "outputs": [
    {
     "name": "stdout",
     "output_type": "stream",
     "text": [
      "[u'greek;10259;romaine lettuce;black olives;grape tomatoes;garlic;pepper;purple onion;seasoning;garbanzo beans;feta cheese crumbles', u'southern_us;25693;plain flour;ground pepper;salt;tomatoes;ground black pepper;thyme;eggs;green tomatoes;yellow corn meal;milk;vegetable oil', u'filipino;20130;eggs;pepper;salt;mayonaise;cooking oil;green chilies;grilled chicken breasts;garlic powder;yellow onion;soy sauce;butter;chicken livers']\n"
     ]
    }
   ],
   "source": [
    "rddData = sc.textFile(\"recipes.txt\")\n",
    "print rddData.take(3)\n",
    "# Each line of data represents a recipes, which is like:\n",
    "# cuisine;ID;ingredients1;ingredients2;..."
   ]
  },
  {
   "cell_type": "code",
   "execution_count": 4,
   "metadata": {},
   "outputs": [
    {
     "name": "stdout",
     "output_type": "stream",
     "text": [
      "Total Recipes 39774\n"
     ]
    }
   ],
   "source": [
    "# How many different recipes does the dataset contain?\n",
    "print \"Total Recipes\",rddData.count()\n"
   ]
  },
  {
   "cell_type": "code",
   "execution_count": 5,
   "metadata": {},
   "outputs": [
    {
     "name": "stdout",
     "output_type": "stream",
     "text": [
      "[u'irish', u'mexican', u'chinese', u'filipino', u'moroccan', u'french', u'cajun_creole', u'british', u'russian', u'jamaican']\n",
      "Total cuisines:  20\n"
     ]
    }
   ],
   "source": [
    "# How many different cuisine does the dataset contain?\n",
    "def splitcuisine(x):\n",
    "    d = x.split(';')\n",
    "    key=d[0]\n",
    "    return (key)\n",
    "\n",
    "cuisine = rddData.map(splitcuisine).distinct()\n",
    "print cuisine.take(10)\n",
    "\n",
    "print \"Total cuisines: \",cuisine.count()"
   ]
  },
  {
   "cell_type": "code",
   "execution_count": 35,
   "metadata": {},
   "outputs": [
    {
     "name": "stdout",
     "output_type": "stream",
     "text": [
      "[(u'hoja santa leaves', 2), (u'chrysanthemum leaves', 2), (u'tart filling', 1), (u'macadamia nuts', 11), (u'sweetened coconut', 3), (u'tamarind', 39), (u'fresh chervil', 15), (u'sushi nori', 5), (u'baking chocolate', 3), (u'grape juice', 6), (u'frozen onion rings', 1), (u'peeled deveined shrimp', 8), (u'ground cardamom', 237), (u'hyssop', 1), (u'light tuna packed in olive oil', 5), (u'reduced fat italian dressing', 2), (u'breadfruit', 2), (u'pancetta', 177), (u'fresh leav spinach', 57), (u'vegan parmesan cheese', 4), (u'branca menta', 1), (u'mackerel', 5), (u'large curd cottage cheese', 5), (u'young coconut meat', 2), (u'grits', 184)]\n",
      "\n",
      "\n",
      "TOP-10 ingredients: \n",
      "\n",
      "\n",
      "salt 18049\n",
      "olive oil 7972\n",
      "onions 7972\n",
      "water 7457\n",
      "garlic 7380\n",
      "sugar 6434\n",
      "garlic cloves 6237\n",
      "butter 4848\n",
      "ground black pepper 4785\n",
      "all-purpose flour 4632\n"
     ]
    }
   ],
   "source": [
    "# Print the TOP-10 ingredients (ordered by the most frequent usage)\n",
    "ingre = rddData.flatMap(lambda line:line.split(';')[2:]).map(lambda r: (r, 1)).reduceByKey(lambda a,b: a+b)\n",
    "print ingre.take(25)\n",
    "ingreSorted = ingre.sortBy(lambda x:x[1],ascending=False)\n",
    "print \"\\n\\n\",\"TOP-10 ingredients:\",\"\\n\\n\"\n",
    "for (a,b) in ingreSorted.take(10):\n",
    "    print a,b"
   ]
  },
  {
   "cell_type": "code",
   "execution_count": 98,
   "metadata": {},
   "outputs": [
    {
     "name": "stdout",
     "output_type": "stream",
     "text": [
      "[[u'romaine lettuce', u'black olives', u'grape tomatoes', u'garlic', u'pepper', u'purple onion', u'seasoning', u'garbanzo beans', u'feta cheese crumbles'], [u'plain flour', u'ground pepper', u'salt', u'tomatoes', u'ground black pepper', u'thyme', u'eggs', u'green tomatoes', u'yellow corn meal', u'milk', u'vegetable oil'], [u'eggs', u'pepper', u'salt', u'mayonaise', u'cooking oil', u'green chilies', u'grilled chicken breasts', u'garlic powder', u'yellow onion', u'soy sauce', u'butter', u'chicken livers']]\n",
      "<class 'pyspark.rdd.PipelinedRDD'>\n",
      "Ingredients that are frequently used together, for all cuisines:\n",
      "FreqItemset(items=[u'salt'], freq=18048)\n",
      "FreqItemset(items=[u'onions'], freq=7972)\n",
      "FreqItemset(items=[u'olive oil'], freq=7971)\n",
      "FreqItemset(items=[u'water'], freq=7457)\n",
      "FreqItemset(items=[u'garlic'], freq=7380)\n",
      "FreqItemset(items=[u'sugar'], freq=6434)\n",
      "FreqItemset(items=[u'garlic cloves'], freq=6236)\n",
      "FreqItemset(items=[u'butter'], freq=4847)\n",
      "FreqItemset(items=[u'ground black pepper'], freq=4784)\n",
      "FreqItemset(items=[u'all-purpose flour'], freq=4632)\n",
      "FreqItemset(items=[u'pepper'], freq=4438)\n",
      "FreqItemset(items=[u'onions', u'salt'], freq=4392)\n",
      "FreqItemset(items=[u'vegetable oil'], freq=4385)\n",
      "FreqItemset(items=[u'olive oil', u'salt'], freq=4177)\n",
      "FreqItemset(items=[u'water', u'salt'], freq=3960)\n",
      "FreqItemset(items=[u'pepper', u'salt'], freq=3844)\n",
      "FreqItemset(items=[u'garlic', u'salt'], freq=3749)\n",
      "FreqItemset(items=[u'eggs'], freq=3388)\n",
      "FreqItemset(items=[u'soy sauce'], freq=3296)\n",
      "FreqItemset(items=[u'kosher salt'], freq=3113)\n",
      "FreqItemset(items=[u'all-purpose flour', u'salt'], freq=3079)\n",
      "FreqItemset(items=[u'green onions'], freq=3078)\n",
      "FreqItemset(items=[u'sugar', u'salt'], freq=3061)\n",
      "FreqItemset(items=[u'tomatoes'], freq=3058)\n",
      "FreqItemset(items=[u'garlic cloves', u'salt'], freq=2995)\n",
      "FreqItemset(items=[u'large eggs'], freq=2948)\n",
      "FreqItemset(items=[u'carrots'], freq=2814)\n",
      "FreqItemset(items=[u'unsalted butter'], freq=2782)\n",
      "FreqItemset(items=[u'butter', u'salt'], freq=2777)\n",
      "FreqItemset(items=[u'ground cumin'], freq=2747)\n",
      "FreqItemset(items=[u'extra-virgin olive oil'], freq=2747)\n",
      "FreqItemset(items=[u'ground black pepper', u'salt'], freq=2734)\n",
      "FreqItemset(items=[u'garlic', u'onions'], freq=2659)\n",
      "FreqItemset(items=[u'black pepper'], freq=2627)\n",
      "FreqItemset(items=[u'milk'], freq=2263)\n",
      "FreqItemset(items=[u'olive oil', u'onions'], freq=2207)\n",
      "FreqItemset(items=[u'vegetable oil', u'salt'], freq=2101)\n",
      "FreqItemset(items=[u'garlic cloves', u'olive oil'], freq=2100)\n",
      "FreqItemset(items=[u'garlic', u'olive oil'], freq=2080)\n",
      "FreqItemset(items=[u'chili powder'], freq=2036)\n"
     ]
    }
   ],
   "source": [
    "# Which ingredients are frequently used together? First consider all \n",
    "# cuisines. \n",
    "def newsplit(x):\n",
    "    out= []\n",
    "    d = x.split(';')\n",
    "    print d\n",
    "    d = d[2:]\n",
    "    for v in d:\n",
    "        if not v in out:\n",
    "            out.append(v)\n",
    "    return out \n",
    " \n",
    "t = rddData.map(newsplit)\n",
    "print t.take(3)\n",
    "print type(t)\n",
    "\n",
    "mode = FPGrowth.train(t,minSupport=0.05, numPartitions=10)\n",
    "result = mode.freqItemsets().sortBy(lambda x: x[1], False).collect()\n",
    "print \"Ingredients that are frequently used together, for all cuisines:\"\n",
    "for r in result:\n",
    "    print r"
   ]
  },
  {
   "cell_type": "code",
   "execution_count": 80,
   "metadata": {},
   "outputs": [
    {
     "name": "stdout",
     "output_type": "stream",
     "text": [
      "[(u'greek', [u'romaine lettuce', u'black olives', u'grape tomatoes', u'garlic', u'pepper', u'purple onion', u'seasoning', u'garbanzo beans', u'feta cheese crumbles']), (u'southern_us', [u'plain flour', u'ground pepper', u'salt', u'tomatoes', u'ground black pepper', u'thyme', u'eggs', u'green tomatoes', u'yellow corn meal', u'milk', u'vegetable oil']), (u'filipino', [u'eggs', u'pepper', u'salt', u'mayonaise', u'cooking oil', u'green chilies', u'grilled chicken breasts', u'garlic powder', u'yellow onion', u'soy sauce', u'butter', u'chicken livers']), (u'indian', [u'water', u'vegetable oil', u'wheat', u'salt']), (u'indian', [u'black pepper', u'shallots', u'cornflour', u'cayenne pepper', u'onions', u'garlic paste', u'milk', u'butter', u'salt', u'lemon juice', u'water', u'chili powder', u'passata', u'oil', u'ground cumin', u'boneless chicken skinless thigh', u'garam masala', u'double cream', u'natural yogurt', u'bay leaf'])]\n",
      "\n",
      "\n",
      "[(u'mexican', [u'olive oil', u'purple onion', u'fresh pineapple', u'pork', u'poblano peppers', u'corn tortillas', u'cheddar cheese', u'ground black pepper', u'salt', u'iceberg lettuce', u'lime', u'jalapeno chilies', u'chopped cilantro fresh']), (u'mexican', [u'ground cinnamon', u'fresh cilantro', u'chili powder', u'ground coriander', u'kosher salt', u'ground black pepper', u'garlic', u'plum tomatoes', u'avocado', u'lime juice', u'flank steak', u'salt', u'ground cumin', u'black pepper', u'olive oil', u'crushed red pepper flakes', u'onions'])]\n",
      "\n",
      "\n",
      "[[u'olive oil', u'purple onion', u'fresh pineapple', u'pork', u'poblano peppers', u'corn tortillas', u'cheddar cheese', u'ground black pepper', u'salt', u'iceberg lettuce', u'lime', u'jalapeno chilies', u'chopped cilantro fresh'], [u'ground cinnamon', u'fresh cilantro', u'chili powder', u'ground coriander', u'kosher salt', u'ground black pepper', u'garlic', u'plum tomatoes', u'avocado', u'lime juice', u'flank steak', u'salt', u'ground cumin', u'black pepper', u'olive oil', u'crushed red pepper flakes', u'onions']]\n",
      "Ingredients that are frequently used together, for mexican:\n",
      "FreqItemset(items=[u'salt'], freq=2720)\n",
      "FreqItemset(items=[u'onions'], freq=1493)\n",
      "FreqItemset(items=[u'ground cumin'], freq=1346)\n",
      "FreqItemset(items=[u'garlic'], freq=1317)\n",
      "FreqItemset(items=[u'olive oil'], freq=1289)\n",
      "FreqItemset(items=[u'chili powder'], freq=1236)\n",
      "FreqItemset(items=[u'jalapeno chilies'], freq=1146)\n",
      "FreqItemset(items=[u'sour cream'], freq=1076)\n",
      "FreqItemset(items=[u'avocado'], freq=1043)\n",
      "FreqItemset(items=[u'corn tortillas'], freq=946)\n",
      "FreqItemset(items=[u'salsa'], freq=923)\n",
      "FreqItemset(items=[u'garlic cloves'], freq=921)\n",
      "FreqItemset(items=[u'water'], freq=907)\n",
      "FreqItemset(items=[u'chopped cilantro fresh'], freq=906)\n",
      "FreqItemset(items=[u'tomatoes'], freq=871)\n",
      "FreqItemset(items=[u'flour tortillas'], freq=818)\n",
      "FreqItemset(items=[u'black beans'], freq=811)\n",
      "FreqItemset(items=[u'pepper'], freq=806)\n",
      "FreqItemset(items=[u'vegetable oil'], freq=775)\n",
      "FreqItemset(items=[u'lime'], freq=732)\n",
      "FreqItemset(items=[u'pepper', u'salt'], freq=725)\n",
      "FreqItemset(items=[u'onions', u'salt'], freq=721)\n",
      "FreqItemset(items=[u'garlic', u'salt'], freq=720)\n",
      "FreqItemset(items=[u'olive oil', u'salt'], freq=707)\n",
      "FreqItemset(items=[u'ground cumin', u'salt'], freq=691)\n",
      "FreqItemset(items=[u'chili powder', u'salt'], freq=664)\n",
      "FreqItemset(items=[u'fresh lime juice'], freq=646)\n",
      "FreqItemset(items=[u'green onions'], freq=638)\n",
      "FreqItemset(items=[u'jalapeno chilies', u'salt'], freq=637)\n",
      "FreqItemset(items=[u'cumin'], freq=625)\n",
      "FreqItemset(items=[u'purple onion'], freq=618)\n",
      "FreqItemset(items=[u'cilantro'], freq=617)\n",
      "FreqItemset(items=[u'kosher salt'], freq=601)\n",
      "FreqItemset(items=[u'shredded cheddar cheese'], freq=599)\n",
      "FreqItemset(items=[u'ground black pepper'], freq=577)\n",
      "FreqItemset(items=[u'garlic', u'onions'], freq=556)\n",
      "FreqItemset(items=[u'diced tomatoes'], freq=544)\n",
      "FreqItemset(items=[u'chili powder', u'ground cumin'], freq=538)\n",
      "FreqItemset(items=[u'lime juice'], freq=538)\n",
      "FreqItemset(items=[u'avocado', u'salt'], freq=529)\n",
      "FreqItemset(items=[u'dried oregano'], freq=518)\n",
      "FreqItemset(items=[u'garlic cloves', u'salt'], freq=490)\n",
      "FreqItemset(items=[u'garlic powder'], freq=483)\n",
      "FreqItemset(items=[u'water', u'salt'], freq=443)\n",
      "FreqItemset(items=[u'fresh cilantro'], freq=440)\n",
      "FreqItemset(items=[u'chopped cilantro fresh', u'salt'], freq=432)\n",
      "FreqItemset(items=[u'corn tortillas', u'salt'], freq=416)\n",
      "FreqItemset(items=[u'tomatoes', u'salt'], freq=411)\n",
      "FreqItemset(items=[u'red bell pepper'], freq=405)\n",
      "FreqItemset(items=[u'white onion'], freq=405)\n",
      "FreqItemset(items=[u'olive oil', u'ground cumin'], freq=404)\n",
      "FreqItemset(items=[u'ground beef'], freq=398)\n",
      "FreqItemset(items=[u'ground cumin', u'onions'], freq=395)\n",
      "FreqItemset(items=[u'olive oil', u'onions'], freq=395)\n",
      "FreqItemset(items=[u'cumin', u'salt'], freq=394)\n",
      "FreqItemset(items=[u'chicken broth'], freq=393)\n",
      "FreqItemset(items=[u'lime', u'salt'], freq=391)\n",
      "FreqItemset(items=[u'garlic', u'ground cumin'], freq=389)\n",
      "FreqItemset(items=[u'chopped cilantro'], freq=385)\n",
      "FreqItemset(items=[u'black pepper'], freq=384)\n",
      "FreqItemset(items=[u'chili powder', u'onions'], freq=384)\n",
      "FreqItemset(items=[u'butter'], freq=377)\n",
      "FreqItemset(items=[u'chili powder', u'garlic'], freq=367)\n",
      "FreqItemset(items=[u'olive oil', u'garlic'], freq=367)\n",
      "FreqItemset(items=[u'sour cream', u'salt'], freq=364)\n",
      "FreqItemset(items=[u'vegetable oil', u'salt'], freq=359)\n",
      "FreqItemset(items=[u'cilantro', u'salt'], freq=357)\n",
      "FreqItemset(items=[u'jalapeno chilies', u'garlic'], freq=349)\n",
      "FreqItemset(items=[u'cumin', u'chili powder'], freq=348)\n",
      "FreqItemset(items=[u'chili powder', u'olive oil'], freq=343)\n",
      "FreqItemset(items=[u'sugar'], freq=343)\n",
      "FreqItemset(items=[u'salsa', u'sour cream'], freq=338)\n",
      "FreqItemset(items=[u'all-purpose flour'], freq=330)\n",
      "FreqItemset(items=[u'cilantro leaves'], freq=328)\n",
      "FreqItemset(items=[u'black beans', u'salt'], freq=327)\n",
      "FreqItemset(items=[u'ground black pepper', u'salt'], freq=326)\n",
      "FreqItemset(items=[u'eggs'], freq=326)\n",
      "FreqItemset(items=[u'cayenne pepper'], freq=325)\n",
      "FreqItemset(items=[u'jalapeno chilies', u'onions'], freq=324)\n"
     ]
    }
   ],
   "source": [
    "# How does the top frequent item-sets differ if you consider only mexican\n",
    "# cuisine?\n",
    "\n",
    "def newsplit2(x):\n",
    "    d = x.split(';')\n",
    "    key = d[0]\n",
    "    value = d[2:]\n",
    "    return (key,value)\n",
    "\n",
    "data = rddData.map(newsplit2)\n",
    "print data.take(5)\n",
    "\n",
    "mex = data.filter(lambda x: \"mexican\" in x)\n",
    "print \"\\n\\n\",mex.take(2)\n",
    "\n",
    "def keepTheValue(kv):\n",
    "    out = []\n",
    "    for v in kv[1]:\n",
    "        if not v in out:\n",
    "            out.append(v)\n",
    "    return out\n",
    "\n",
    "print \"\\n\\n\",mex.map(keepTheValue).take(2)\n",
    "mexi = mex.map(keepTheValue)\n",
    "mode = FPGrowth.train(mexi,minSupport=0.05, numPartitions=10)\n",
    "result = mode.freqItemsets().sortBy(lambda x: x[1], False).collect()\n",
    "print \"Ingredients that are frequently used together, for mexican:\"\n",
    "for r in result:\n",
    "    print r    "
   ]
  }
 ],
 "metadata": {
  "kernelspec": {
   "display_name": "Python 3",
   "language": "python",
   "name": "python3"
  },
  "language_info": {
   "codemirror_mode": {
    "name": "ipython",
    "version": 3
   },
   "file_extension": ".py",
   "mimetype": "text/x-python",
   "name": "python",
   "nbconvert_exporter": "python",
   "pygments_lexer": "ipython3",
   "version": "3.6.4"
  }
 },
 "nbformat": 4,
 "nbformat_minor": 2
}
