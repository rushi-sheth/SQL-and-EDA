{
 "cells": [
  {
   "cell_type": "markdown",
   "metadata": {},
   "source": [
    "__Data__: NYC Taxi Data<br>\n",
    "__Tasks__: Trip Analysis by:\n",
    "- Distance \n",
    "- Pick up time\n",
    "- Major destination/pick up points - Airport\n",
    "- Intra and inter borough traffic analysis"
   ]
  },
  {
   "cell_type": "code",
   "execution_count": 2,
   "metadata": {},
   "outputs": [],
   "source": [
    "import findspark\n",
    "findspark.init()\n",
    "import pyspark\n",
    "import re\n",
    "from random import random\n",
    "from pyspark import SparkContext\n",
    "from operator import add"
   ]
  },
  {
   "cell_type": "code",
   "execution_count": 3,
   "metadata": {},
   "outputs": [],
   "source": [
    "from pyspark.ml.feature import HashingTF, IDF, Tokenizer\n",
    "from pyspark.mllib.clustering import KMeans, KMeansModel"
   ]
  },
  {
   "cell_type": "code",
   "execution_count": 4,
   "metadata": {},
   "outputs": [],
   "source": [
    "import numpy as np\n",
    "import pandas as pd\n",
    "import matplotlib.pyplot as plt"
   ]
  },
  {
   "cell_type": "code",
   "execution_count": 5,
   "metadata": {},
   "outputs": [
    {
     "name": "stdout",
     "output_type": "stream",
     "text": [
      "4214 rus217\n"
     ]
    }
   ],
   "source": [
    "# config = pyspark.SparkConf().set('spark.executor.memory', '512M').set('spark.cores.max', '2')\\\n",
    "#             .set('spark.port.maxRetries','200') \n",
    "import os\n",
    "port = 4040 + hash(os.getcwd().split(\"/\")[2])%200\n",
    "config = pyspark.SparkConf().set('spark.executor.memory', '512M')\\\n",
    "         .set('spark.cores.max', '10')\\\n",
    "         .set('spark.port.maxRetries','200')\\\n",
    "         .set('spark.ui.port', port)    \n",
    "print port,     os.getcwd().split(\"/\")[2]\n",
    "sc = pyspark.SparkContext(appName=\"FP baskets\", master='',conf = config )"
   ]
  },
  {
   "cell_type": "code",
   "execution_count": 6,
   "metadata": {},
   "outputs": [
    {
     "data": {
      "text/plain": [
       "[u'2,2015-09-01 00:02:34,2015-09-01 00:02:38,N,5,-73.979484558105469,40.684955596923828,-73.97943115234375,40.685020446777344,1,.00,7.8,0,0,1.95,0,,0,9.75,1,2',\n",
       " u'2,2015-09-01 00:04:20,2015-09-01 00:04:24,N,5,-74.010795593261719,40.912216186523438,-74.010780334472656,40.912212371826172,1,.00,45,0,0,0,0,,0,45,1,2',\n",
       " u'2,2015-09-01 00:01:50,2015-09-01 00:04:24,N,1,-73.921409606933594,40.766708374023438,-73.914413452148438,40.764686584472656,1,.59,4,0.5,0.5,0.5,0,,0.3,5.8,1,1',\n",
       " u'2,2015-09-01 00:02:36,2015-09-01 00:06:42,N,1,-73.92138671875,40.766677856445313,-73.931427001953125,40.771583557128906,1,.74,5,0.5,0.5,0,0,,0.3,6.3,2,1',\n",
       " u'2,2015-09-01 00:00:14,2015-09-01 00:04:20,N,1,-73.955482482910156,40.714046478271484,-73.944412231445313,40.714729309082031,1,.61,5,0.5,0.5,0,0,,0.3,6.3,2,1']"
      ]
     },
     "execution_count": 6,
     "metadata": {},
     "output_type": "execute_result"
    }
   ],
   "source": [
    "data = sc.textFile(\"/scratch/ISE495/2018_project_01/green_tripdata_2015-09.csv\")\n",
    "data.take(5)"
   ]
  },
  {
   "cell_type": "code",
   "execution_count": 7,
   "metadata": {},
   "outputs": [
    {
     "name": "stdout",
     "output_type": "stream",
     "text": [
      "['VendorID,lpep_pickup_datetime,Lpep_dropoff_datetime,Store_and_fwd_flag,RateCodeID,Pickup_longitude,Pickup_latitude,Dropoff_longitude,Dropoff_latitude,Passenger_count,Trip_distance,Fare_amount,Extra,MTA_tax,Tip_amount,Tolls_amount,Ehail_fee,improvement_surcharge,Total_amount,Payment_type,Trip_type\\n']\n"
     ]
    }
   ],
   "source": [
    "headers = \"/scratch/ISE495/2018_project_01/header.txt\"\n",
    "head=[]\n",
    "with open(headers) as f:\n",
    "    a = f.readlines()\n",
    "    print a\n",
    "    for i in a:\n",
    "        head = i.strip('\\n').split(',')\n",
    "    "
   ]
  },
  {
   "cell_type": "code",
   "execution_count": 8,
   "metadata": {},
   "outputs": [
    {
     "name": "stdout",
     "output_type": "stream",
     "text": [
      "[u'2', u'2015-09-01 00:02:34', u'2015-09-01 00:02:38', u'N', u'5', u'-73.979484558105469', u'40.684955596923828', u'-73.97943115234375', u'40.685020446777344', u'1', u'.00', u'7.8', u'0', u'0', u'1.95', u'0', u'', u'0', u'9.75', u'1', u'2']\n"
     ]
    }
   ],
   "source": [
    "l = data.take(1)\n",
    "for i in l:\n",
    "    a=i.split(',')\n",
    "    print a"
   ]
  },
  {
   "cell_type": "code",
   "execution_count": 9,
   "metadata": {
    "scrolled": true
   },
   "outputs": [
    {
     "data": {
      "text/plain": [
       "[('VendorID', 0),\n",
       " ('lpep_pickup_datetime', 1),\n",
       " ('Lpep_dropoff_datetime', 2),\n",
       " ('Store_and_fwd_flag', 3),\n",
       " ('RateCodeID', 4),\n",
       " ('Pickup_longitude', 5),\n",
       " ('Pickup_latitude', 6),\n",
       " ('Dropoff_longitude', 7),\n",
       " ('Dropoff_latitude', 8),\n",
       " ('Passenger_count', 9),\n",
       " ('Trip_distance', 10),\n",
       " ('Fare_amount', 11),\n",
       " ('Extra', 12),\n",
       " ('MTA_tax', 13),\n",
       " ('Tip_amount', 14),\n",
       " ('Tolls_amount', 15),\n",
       " ('Ehail_fee', 16),\n",
       " ('improvement_surcharge', 17),\n",
       " ('Total_amount', 18),\n",
       " ('Payment_type', 19),\n",
       " ('Trip_type', 20)]"
      ]
     },
     "execution_count": 9,
     "metadata": {},
     "output_type": "execute_result"
    }
   ],
   "source": [
    "head\n",
    "zip(head,range(0,21,1))"
   ]
  },
  {
   "cell_type": "code",
   "execution_count": 11,
   "metadata": {},
   "outputs": [],
   "source": [
    "total_trips = data.count()"
   ]
  },
  {
   "cell_type": "markdown",
   "metadata": {},
   "source": [
    "### Distance Travelled"
   ]
  },
  {
   "cell_type": "code",
   "execution_count": 14,
   "metadata": {},
   "outputs": [],
   "source": [
    "hist2 =  data.map(lambda x:float(x.split(',')[10])).collect()"
   ]
  },
  {
   "cell_type": "code",
   "execution_count": 209,
   "metadata": {},
   "outputs": [
    {
     "data": {
      "image/png": "[encoded data removed]",
      "text/plain": [
       "<Figure size 432x288 with 1 Axes>"
      ]
     },
     "metadata": {},
     "output_type": "display_data"
    }
   ],
   "source": [
    "plt.hist(hist2,bins=35,log=1)\n",
    "plt.title('Travel Distance')\n",
    "plt.xlabel('Distance')\n",
    "plt.axis('auto')\n",
    "plt.ylabel('Frequency log')\n",
    "plt.grid(axis='y', alpha=0.75)\n",
    "plt.savefig('Histogram')"
   ]
  },
  {
   "cell_type": "code",
   "execution_count": 214,
   "metadata": {},
   "outputs": [
    {
     "name": "stdout",
     "output_type": "stream",
     "text": [
      "Percentage of rides less than 10 miles 96 %\n",
      "Percentage of rides less than 2 miles 50 %\n"
     ]
    },
    {
     "data": {
      "image/png": "[encoded data removed]",
      "text/plain": [
       "<Figure size 432x288 with 1 Axes>"
      ]
     },
     "metadata": {},
     "output_type": "display_data"
    }
   ],
   "source": [
    "\n",
    "hist3 = sorted(i for i in hist2 if i<10)\n",
    "print 'Percentage of rides less than 10 miles',len(hist3)*100/len(hist2),'%'\n",
    "plt.hist(hist3,bins=100,label = 'less than 10miles')\n",
    "plt.hist(hist4,bins=100,label = 'less than 2miles')\n",
    "plt.title('Travel Distance')\n",
    "plt.xlabel('Distance')\n",
    "plt.axis('auto')\n",
    "plt.ylabel('Frequency')\n",
    "plt.grid(axis='y', alpha=0.75)\n",
    "plt.xticks(np.arange(0,10, 1))\n",
    "plt.legend()\n",
    "hist4 = sorted(i for i in hist2 if i<2)\n",
    "print 'Percentage of rides less than 2 miles',len(hist4)*100/len(hist2),'%'\n",
    "plt.savefig('Less than 10miles')\n",
    "plt.show()\n"
   ]
  },
  {
   "cell_type": "markdown",
   "metadata": {},
   "source": [
    "#### Analysis by pick up time"
   ]
  },
  {
   "cell_type": "code",
   "execution_count": 17,
   "metadata": {},
   "outputs": [],
   "source": [
    "def hour_dist(x):  \n",
    "    x = x.split(',')\n",
    "    stamp = x[1]\n",
    "    dist = x[10]\n",
    "    time = stamp.split(\" \")[1]\n",
    "    hour = time.split(':')[0]\n",
    "    return (int(float((hour))),(float(dist)))\n",
    "\n",
    "hour_dist = data.map(hour_dist)"
   ]
  },
  {
   "cell_type": "code",
   "execution_count": 18,
   "metadata": {},
   "outputs": [
    {
     "data": {
      "text/plain": [
       "[(0, 0.0),\n",
       " (0, 0.0),\n",
       " (0, 0.59),\n",
       " (0, 0.74),\n",
       " (0, 0.61),\n",
       " (0, 1.07),\n",
       " (0, 1.43),\n",
       " (0, 0.9),\n",
       " (0, 1.33),\n",
       " (0, 0.84)]"
      ]
     },
     "execution_count": 18,
     "metadata": {},
     "output_type": "execute_result"
    }
   ],
   "source": [
    "hour_dist.take(10)"
   ]
  },
  {
   "cell_type": "code",
   "execution_count": 19,
   "metadata": {},
   "outputs": [],
   "source": [
    "#Created a list of counts by each hours\n",
    "count_hour = dict(hour_dist.countByKey())"
   ]
  },
  {
   "cell_type": "code",
   "execution_count": 20,
   "metadata": {},
   "outputs": [
    {
     "data": {
      "text/plain": [
       "{0: 67158,\n",
       " 1: 53773,\n",
       " 2: 41196,\n",
       " 3: 31640,\n",
       " 4: 26424,\n",
       " 5: 16700,\n",
       " 6: 22667,\n",
       " 7: 41978,\n",
       " 8: 58965,\n",
       " 9: 62027,\n",
       " 10: 57468,\n",
       " 11: 56791,\n",
       " 12: 57828,\n",
       " 13: 57477,\n",
       " 14: 66664,\n",
       " 15: 73777,\n",
       " 16: 79157,\n",
       " 17: 88022,\n",
       " 18: 97245,\n",
       " 19: 96141,\n",
       " 20: 90785,\n",
       " 21: 86543,\n",
       " 22: 84705,\n",
       " 23: 79795}"
      ]
     },
     "execution_count": 20,
     "metadata": {},
     "output_type": "execute_result"
    }
   ],
   "source": [
    "#(hour_of_the_day,number_of _trips)\n",
    "count_hour"
   ]
  },
  {
   "cell_type": "code",
   "execution_count": 219,
   "metadata": {},
   "outputs": [
    {
     "data": {
      "image/png": "[encoded data removed]",
      "text/plain": [
       "<Figure size 432x288 with 1 Axes>"
      ]
     },
     "metadata": {},
     "output_type": "display_data"
    }
   ],
   "source": [
    "plt.xticks(np.arange(0,24,1))\n",
    "plt.grid(axis='both')\n",
    "plt.title('Number of rides per hour')\n",
    "plt.xlabel('Hour')\n",
    "plt.ylabel('Number of rides')\n",
    "plt.plot(count_hour.values())\n",
    "plt.savefig('Rides_day')\n",
    "plt.show()"
   ]
  },
  {
   "cell_type": "code",
   "execution_count": 23,
   "metadata": {},
   "outputs": [],
   "source": [
    "sums = hour_dist.reduceByKey(lambda x,y:round((x+y),2)).sortByKey().collect()"
   ]
  },
  {
   "cell_type": "markdown",
   "metadata": {},
   "source": [
    "__Calculating the mean distance travelled per hour.__ \n",
    "- Dividing total distance travelled in that hour by the total number of rides in that hour."
   ]
  },
  {
   "cell_type": "code",
   "execution_count": 24,
   "metadata": {},
   "outputs": [
    {
     "data": {
      "text/plain": [
       "{0: 3.12,\n",
       " 1: 3.02,\n",
       " 2: 3.05,\n",
       " 3: 3.21,\n",
       " 4: 3.53,\n",
       " 5: 4.13,\n",
       " 6: 4.06,\n",
       " 7: 3.28,\n",
       " 8: 3.05,\n",
       " 9: 3.0,\n",
       " 10: 2.94,\n",
       " 11: 2.91,\n",
       " 12: 2.9,\n",
       " 13: 2.88,\n",
       " 14: 2.86,\n",
       " 15: 2.86,\n",
       " 16: 2.78,\n",
       " 17: 2.68,\n",
       " 18: 2.65,\n",
       " 19: 2.72,\n",
       " 20: 2.78,\n",
       " 21: 3.0,\n",
       " 22: 3.19,\n",
       " 23: 3.19}"
      ]
     },
     "execution_count": 24,
     "metadata": {},
     "output_type": "execute_result"
    }
   ],
   "source": [
    "means = {}\n",
    "for i in sums:\n",
    "    means[i[0]]=round(i[1]/count_hour[i[0]],2)\n",
    "means"
   ]
  },
  {
   "cell_type": "code",
   "execution_count": 6,
   "metadata": {},
   "outputs": [
    {
     "data": {
      "image/png": "[encoded data removed]",
      "text/plain": [
       "<Figure size 432x288 with 1 Axes>"
      ]
     },
     "metadata": {},
     "output_type": "display_data"
    }
   ],
   "source": [
    "plt.xticks(np.arange(0,24,1))\n",
    "plt.grid(axis='both')\n",
    "plt.title('Mean trip distance per hour')\n",
    "plt.xlabel('Hour')\n",
    "plt.ylabel('Distance in miles')\n",
    "plt.plot(means.values())\n",
    "plt.show()"
   ]
  },
  {
   "cell_type": "markdown",
   "metadata": {},
   "source": [
    "####  NYC Airport Trips"
   ]
  },
  {
   "cell_type": "markdown",
   "metadata": {},
   "source": [
    "\n",
    "1. Which airport is more used?\n",
    "2. Which airport is expensive to reach?\n",
    "3. Do driver get better tips because of luggage?\n",
    "4. Drop-off Time with maximum and minimum trips : Let's look what time is busiest\n",
    "5. Type of Payment"
   ]
  },
  {
   "cell_type": "markdown",
   "metadata": {},
   "source": [
    "Since the Ratecode for JFK is 2 and Newark is 3, we will filter entries with RateCodeID = 2 or 3\n"
   ]
  },
  {
   "cell_type": "code",
   "execution_count": 25,
   "metadata": {},
   "outputs": [],
   "source": [
    "airport = data.filter(lambda x:(int(float(x.split(',')[4]))==2) | (int(float(x.split(',')[4]))==3))\n",
    "count = airport.count()\n",
    "jfk = airport.filter(lambda x:(int(float(x.split(',')[4]))==2)).count()\n",
    "ewr = airport.filter(lambda x:(int(float(x.split(',')[4]))==3)).count()"
   ]
  },
  {
   "cell_type": "code",
   "execution_count": 26,
   "metadata": {},
   "outputs": [
    {
     "name": "stdout",
     "output_type": "stream",
     "text": [
      "Total Number of trips to JFK or Newark Airports is 5552\n",
      "Rides to Newark: 1117\n",
      "Rides to JFK: 4435\n"
     ]
    }
   ],
   "source": [
    "print \"Total Number of trips to JFK or Newark Airports is\", count\n",
    "print 'Rides to Newark:' ,ewr\n",
    "print 'Rides to JFK:',jfk"
   ]
  },
  {
   "cell_type": "code",
   "execution_count": 27,
   "metadata": {},
   "outputs": [
    {
     "data": {
      "text/plain": [
       "[u'2,2015-09-01 00:07:12,2015-09-01 00:07:27,N,2,-73.844268798828125,40.755165100097656,-73.844650268554687,40.755058288574219,1,.00,52,0,0.5,0,0,,0.3,52.8,2,1',\n",
       " u'2,2015-09-01 00:21:08,2015-09-01 00:21:12,N,2,-73.930213928222656,40.6776123046875,-73.930213928222656,40.67767333984375,1,.00,52,0,0.5,0,0,,0.3,52.8,2,1',\n",
       " u'2,2015-09-01 00:14:55,2015-09-01 00:15:11,N,2,-73.94671630859375,40.714317321777344,-73.944953918457031,40.714466094970703,2,.03,52,0,0.5,0,0,,0.3,52.8,2,1']"
      ]
     },
     "execution_count": 27,
     "metadata": {},
     "output_type": "execute_result"
    }
   ],
   "source": [
    "airport.take(3)"
   ]
  },
  {
   "cell_type": "code",
   "execution_count": 28,
   "metadata": {},
   "outputs": [],
   "source": [
    "def airport_prices(x):\n",
    "    x=x.split(',')\n",
    "    code = x[4]\n",
    "    passenger = x[9]\n",
    "    distance = x[10]\n",
    "    fare = x[11]\n",
    "    tip = x[14]\n",
    "    total = x[18]\n",
    "    trip_type = x[20]\n",
    "    return (int(float(code)),int(float(passenger)),float(distance),float(fare),float(tip),float(total),int(float(trip_type)))\n",
    "\n",
    "airport_details = airport.map(airport_prices)"
   ]
  },
  {
   "cell_type": "code",
   "execution_count": 29,
   "metadata": {},
   "outputs": [
    {
     "data": {
      "text/plain": [
       "[(2, 1, 0.0, 52.0, 0.0, 52.8, 1),\n",
       " (2, 1, 0.0, 52.0, 0.0, 52.8, 1),\n",
       " (2, 2, 0.03, 52.0, 0.0, 52.8, 1),\n",
       " (2, 2, 0.03, -52.0, 0.0, -52.8, 1),\n",
       " (2, 2, 0.12, 52.0, 0.0, 52.8, 1),\n",
       " (2, 1, 0.02, 52.0, 0.0, 52.8, 1),\n",
       " (2, 1, 0.26, 52.0, 0.0, 52.8, 1),\n",
       " (2, 6, 0.0, 52.0, 0.0, 52.8, 1),\n",
       " (2, 1, 17.99, 52.0, 0.0, 58.34, 1),\n",
       " (2, 1, 20.06, 52.0, 8.0, 66.34, 1)]"
      ]
     },
     "execution_count": 29,
     "metadata": {},
     "output_type": "execute_result"
    }
   ],
   "source": [
    "airport_details.take(10)"
   ]
  },
  {
   "cell_type": "code",
   "execution_count": 30,
   "metadata": {},
   "outputs": [],
   "source": [
    "average_fare = airport_details.map(lambda x: (x[0],x[5]) if x[0]==2 else (x[0],x[5])).reduceByKey(lambda x,y:x+y).collect()"
   ]
  },
  {
   "cell_type": "code",
   "execution_count": 31,
   "metadata": {},
   "outputs": [
    {
     "data": {
      "text/plain": [
       "[(2, 250718.12999999907), (3, 66903.02000000002)]"
      ]
     },
     "execution_count": 31,
     "metadata": {},
     "output_type": "execute_result"
    }
   ],
   "source": [
    "average_fare"
   ]
  },
  {
   "cell_type": "code",
   "execution_count": 32,
   "metadata": {},
   "outputs": [],
   "source": [
    "allride_fare = data.map(lambda x:float(x.split(',')[18])).reduce(lambda x,y : x+y)\n",
    "average_fare_all = allride_fare/total_trips"
   ]
  },
  {
   "cell_type": "code",
   "execution_count": 33,
   "metadata": {},
   "outputs": [],
   "source": [
    "All_average = (round((average_fare[0][1]+average_fare[1][1])/count,2))\n",
    "JFK_average = (round((average_fare[0][1])/jfk,2))\n",
    "EWR_average = (round((average_fare[1][1])/ ewr,2))"
   ]
  },
  {
   "cell_type": "code",
   "execution_count": 34,
   "metadata": {},
   "outputs": [
    {
     "name": "stdout",
     "output_type": "stream",
     "text": [
      "Average all ride fare:$ 15.03\n",
      "Average Fare for both airports: $ 57.21\n",
      "Average Fare for JFK:$ 56.53\n",
      "Average Fare for Newark: $ 59.9\n"
     ]
    }
   ],
   "source": [
    "print 'Average all ride fare:$', round(average_fare_all,2)\n",
    "print 'Average Fare for both airports: $',All_average\n",
    "print 'Average Fare for JFK:$', JFK_average\n",
    "print 'Average Fare for Newark: $',EWR_average"
   ]
  },
  {
   "cell_type": "code",
   "execution_count": 35,
   "metadata": {},
   "outputs": [],
   "source": [
    "average_tip = airport_details.map(lambda x: (x[0],x[4]) if x[0]==2 else (x[0],x[4])).reduceByKey(lambda x,y:x+y).collect()\n",
    "All_average_tip = (round((average_tip[0][1]+average_tip[1][1])/ count,2))\n",
    "JFK_average_tip = (round((average_tip[0][1])/jfk,2))\n",
    "EWR_average_tip = (round((average_tip[1][1])/ewr,2))"
   ]
  },
  {
   "cell_type": "code",
   "execution_count": 37,
   "metadata": {},
   "outputs": [],
   "source": [
    "allride_tip = data.map(lambda x:float(x.split(',')[14])).reduce(lambda x,y : x+y)\n",
    "average_tip_all = allride_tip/total_trips"
   ]
  },
  {
   "cell_type": "code",
   "execution_count": 39,
   "metadata": {},
   "outputs": [
    {
     "name": "stdout",
     "output_type": "stream",
     "text": [
      "Average all ride tip: 1.24\n",
      "Average tip for both airports:  4.35\n",
      "Average tip for JFK: 4.08\n",
      "Average tip for Newark:  5.44\n"
     ]
    }
   ],
   "source": [
    "print 'Average all ride tip:', round(average_tip_all,2)\n",
    "print 'Average tip for both airports: ',All_average_tip\n",
    "print 'Average tip for JFK:', JFK_average_tip\n",
    "print 'Average tip for Newark: ',EWR_average_tip"
   ]
  },
  {
   "cell_type": "code",
   "execution_count": 40,
   "metadata": {},
   "outputs": [],
   "source": [
    "def hour_trips(x):  \n",
    "    x = x.split(',')\n",
    "    stamp = x[1]\n",
    "    code = x[4]\n",
    "    time = stamp.split(\" \")[1]\n",
    "    hour = time.split(':')[0]\n",
    "    return (int(float((hour))),int(float(code)))\n",
    "\n",
    "\n",
    "hour_airport_trip = data.map(hour_trips)"
   ]
  },
  {
   "cell_type": "code",
   "execution_count": 41,
   "metadata": {},
   "outputs": [],
   "source": [
    "ewr_hours = dict(hour_airport_trip.filter(lambda x:x[1]==3).countByKey())\n",
    "jfk_hours = dict(hour_airport_trip.filter(lambda x:x[1]==2).countByKey())"
   ]
  },
  {
   "cell_type": "code",
   "execution_count": 42,
   "metadata": {},
   "outputs": [
    {
     "name": "stdout",
     "output_type": "stream",
     "text": [
      "Trips by Hours to Newark (hours, number of trips, % of total trips to newark)\n"
     ]
    },
    {
     "data": {
      "text/plain": [
       "{0: (22, 1.97),\n",
       " 1: (23, 2.06),\n",
       " 2: (16, 1.43),\n",
       " 3: (16, 1.43),\n",
       " 4: (48, 4.3),\n",
       " 5: (33, 2.95),\n",
       " 6: (36, 3.22),\n",
       " 7: (52, 4.66),\n",
       " 8: (42, 3.76),\n",
       " 9: (48, 4.3),\n",
       " 10: (44, 3.94),\n",
       " 11: (51, 4.57),\n",
       " 12: (74, 6.62),\n",
       " 13: (60, 5.37),\n",
       " 14: (83, 7.43),\n",
       " 15: (87, 7.79),\n",
       " 16: (72, 6.45),\n",
       " 17: (76, 6.8),\n",
       " 18: (61, 5.46),\n",
       " 19: (41, 3.67),\n",
       " 20: (40, 3.58),\n",
       " 21: (28, 2.51),\n",
       " 22: (29, 2.6),\n",
       " 23: (35, 3.13)}"
      ]
     },
     "execution_count": 42,
     "metadata": {},
     "output_type": "execute_result"
    }
   ],
   "source": [
    "print 'Trips by Hours to Newark (hours, number of trips, % of total trips to newark)'\n",
    "ewr_hours\n",
    "ewr_hours_perc = {}\n",
    "for items in ewr_hours.items():   \n",
    "    ewr_hours_perc[items[0]] = (ewr_hours[items[0]],round(items[1]*100.00/ewr,2))\n",
    "\n",
    "ewr_hours_perc"
   ]
  },
  {
   "cell_type": "code",
   "execution_count": 222,
   "metadata": {},
   "outputs": [
    {
     "name": "stdout",
     "output_type": "stream",
     "text": [
      "Trips by Hours to JFk (hours, number of trips, % of total trips to JFK)\n"
     ]
    },
    {
     "data": {
      "text/plain": [
       "{0: (80, 1.8),\n",
       " 1: (58, 1.31),\n",
       " 2: (51, 1.15),\n",
       " 3: (69, 1.56),\n",
       " 4: (93, 2.1),\n",
       " 5: (131, 2.95),\n",
       " 6: (159, 3.59),\n",
       " 7: (165, 3.72),\n",
       " 8: (206, 4.64),\n",
       " 9: (207, 4.67),\n",
       " 10: (205, 4.62),\n",
       " 11: (217, 4.89),\n",
       " 12: (223, 5.03),\n",
       " 13: (243, 5.48),\n",
       " 14: (286, 6.45),\n",
       " 15: (356, 8.03),\n",
       " 16: (337, 7.6),\n",
       " 17: (285, 6.43),\n",
       " 18: (272, 6.13),\n",
       " 19: (232, 5.23),\n",
       " 20: (179, 4.04),\n",
       " 21: (132, 2.98),\n",
       " 22: (122, 2.75),\n",
       " 23: (127, 2.86)}"
      ]
     },
     "execution_count": 222,
     "metadata": {},
     "output_type": "execute_result"
    }
   ],
   "source": [
    "print 'Trips by Hours to JFk (hours, number of trips, % of total trips to JFK)'\n",
    "jfk_hours\n",
    "jfk_hours_perc = {}\n",
    "for items in jfk_hours.items():   \n",
    "    jfk_hours_perc[items[0]] = (jfk_hours[items[0]],round(items[1]*100.00/jfk,2))\n",
    "\n",
    "jfk_hours_perc\n"
   ]
  },
  {
   "cell_type": "code",
   "execution_count": 44,
   "metadata": {},
   "outputs": [],
   "source": [
    "plot_jfk = {}\n",
    "for i in jfk_hours_perc.items():\n",
    "    plot_jfk[i[0]]=float(i[1][1])\n",
    "\n",
    "plot_ewr = {}\n",
    "for i in ewr_hours_perc.items():\n",
    "    plot_ewr[i[0]]=float(i[1][1])"
   ]
  },
  {
   "cell_type": "code",
   "execution_count": 223,
   "metadata": {},
   "outputs": [
    {
     "data": {
      "image/png": "[encoded data removed]",
      "text/plain": [
       "<Figure size 432x288 with 1 Axes>"
      ]
     },
     "metadata": {},
     "output_type": "display_data"
    }
   ],
   "source": [
    "plt.plot(plot_jfk.values(),label='JFK') \n",
    "plt.plot(plot_ewr.values(),label='Newark')\n",
    "plt.legend()\n",
    "plt.xticks(np.arange(0,24,1))\n",
    "plt.xlabel('Hour')\n",
    "plt.ylabel('% of trips to each airport')\n",
    "plt.savefig('Airport Trips')\n",
    "plt.show()"
   ]
  },
  {
   "cell_type": "code",
   "execution_count": 46,
   "metadata": {},
   "outputs": [],
   "source": [
    "def pay(x):\n",
    "    x = x.split(',')\n",
    "    return (int(float(x[4])),int(float(x[19])))\n",
    "\n",
    "payment = data.map(pay)"
   ]
  },
  {
   "cell_type": "code",
   "execution_count": 47,
   "metadata": {},
   "outputs": [
    {
     "data": {
      "text/plain": [
       "{(3, 1): 460, (3, 2): 499, (3, 3): 110, (3, 4): 47, (3, 5): 1}"
      ]
     },
     "execution_count": 47,
     "metadata": {},
     "output_type": "execute_result"
    }
   ],
   "source": [
    "ewr_payment = dict(payment.filter(lambda x: x[0]==3).countByValue())\n",
    "ewr_payment"
   ]
  },
  {
   "cell_type": "code",
   "execution_count": 48,
   "metadata": {},
   "outputs": [
    {
     "data": {
      "text/plain": [
       "{(2, 1): 1740, (2, 2): 2498, (2, 3): 138, (2, 4): 58, (2, 5): 1}"
      ]
     },
     "execution_count": 48,
     "metadata": {},
     "output_type": "execute_result"
    }
   ],
   "source": [
    "jfk_payment = dict(payment.filter(lambda x: x[0]==2).countByValue())\n",
    "jfk_payment"
   ]
  },
  {
   "cell_type": "markdown",
   "metadata": {},
   "source": [
    "#### Intra and Inter Borough Traffic Analysis\n",
    "New Jersey Code :1\n",
    "New York Code:2"
   ]
  },
  {
   "cell_type": "code",
   "execution_count": 261,
   "metadata": {},
   "outputs": [],
   "source": [
    "def trips(x):\n",
    "    x = x.split(',')\n",
    "    for i in range(4,9,1):\n",
    "        x[i]=float(x[i])\n",
    "    if x[6] > 1.323942*x[5]+138.669195:\n",
    "        start = 1\n",
    "    else:\n",
    "        start =2\n",
    "    if x[8] > 1.323942*x[7]+138.669195:\n",
    "        end =1\n",
    "    else:\n",
    "        end=2\n",
    "    return ((x[5],x[6]),(x[7],x[8]),(start,end))\n",
    "rides = data.map(trips)"
   ]
  },
  {
   "cell_type": "code",
   "execution_count": 262,
   "metadata": {},
   "outputs": [],
   "source": [
    "counts = rides.collect()"
   ]
  },
  {
   "cell_type": "code",
   "execution_count": 268,
   "metadata": {},
   "outputs": [],
   "source": [
    "NJ_NJ =0\n",
    "NJ_NY = 0\n",
    "NY_NY = 0\n",
    "NY_NJ =0\n",
    "for j in counts:\n",
    "        i = j[2]\n",
    "        if i[0] == 1:\n",
    "            if i[0]==i[1]:\n",
    "                NJ_NJ +=1\n",
    "            else:\n",
    "                NJ_NY +=1\n",
    "        else:\n",
    "            if i[0]==i[1]:\n",
    "                NY_NY +=1\n",
    "            else:\n",
    "                NY_NJ +=1\n",
    "\n",
    "ride_analysis = (NJ_NJ,NJ_NY,NY_NY,NY_NJ)"
   ]
  },
  {
   "cell_type": "code",
   "execution_count": 307,
   "metadata": {},
   "outputs": [
    {
     "name": "stdout",
     "output_type": "stream",
     "text": [
      "The rides are bifurcated as follows:\n",
      "NJ to NJ: 449130 or 30.0 %\n",
      "NJ to NY:  37133 or 2.0 %\n",
      "NY to NY:  864553 or 57.0 %\n",
      "NY to NJ:  144110 or 9.0 %\n"
     ]
    }
   ],
   "source": [
    "print 'The rides are bifurcated as follows:\\nNJ to NJ:',NJ_NJ,'or', float(NJ_NJ*100/total_trips),\"%\"\n",
    "print 'NJ to NY: ',NJ_NY,'or', float(NJ_NY*100/total_trips),\"%\"\n",
    "print'NY to NY: ',NY_NY,'or', float(NY_NY*100/total_trips),\"%\"\n",
    "print'NY to NJ: ',NY_NJ,'or', float(NY_NJ*100/total_trips),\"%\""
   ]
  },
  {
   "cell_type": "code",
   "execution_count": 276,
   "metadata": {},
   "outputs": [],
   "source": [
    "uptown_downtown = 0\n",
    "downtown_uptown = 0\n",
    "for i in counts:\n",
    "    if i[2][0]==i[2][1]==2:\n",
    "        if i[0][1] > i[1][1]:\n",
    "            downtown_uptown +=1\n",
    "        else:\n",
    "            uptown_downtown +=1\n",
    "            "
   ]
  },
  {
   "cell_type": "code",
   "execution_count": 277,
   "metadata": {},
   "outputs": [
    {
     "name": "stdout",
     "output_type": "stream",
     "text": [
      "Within New York Total Rides: 864553 \n",
      " Uptown to Downtown Rides: 398428 \n",
      " Downtown to Uptown Rides:  466125\n"
     ]
    }
   ],
   "source": [
    "print \"Within New York Total Rides:\",uptown_downtown+downtown_uptown,'\\n Uptown to Downtown Rides:',uptown_downtown,'\\n Downtown to Uptown Rides: ',downtown_uptown"
   ]
  },
  {
   "cell_type": "code",
   "execution_count": 49,
   "metadata": {},
   "outputs": [],
   "source": [
    "#Days and time \n",
    "def info(x):\n",
    "    x = x.split(',')\n",
    "    vendor = x[0]\n",
    "    stamp = x[1].split(\" \")\n",
    "    dist = x[10]\n",
    "    day=stamp[0]\n",
    "    time = stamp[1]\n",
    "    hour = time.split(':')[0]\n",
    "    Store_and_fwd_flag = x[3]\n",
    "    rate = x[4]\n",
    "    Pickup_longitude = x[5]\n",
    "    Pickup_latitude=x[6]\n",
    "    Dropoff_longitude=x[7]\n",
    "    Dropoff_latitude=x[8]\n",
    "    Passenger_count=x[9]\n",
    "    Trip_distance=x[10]\n",
    "    Fare_amount=x[11]\n",
    "    Extra=x[12]\n",
    "    MTA_tax=x[13]\n",
    "    Tip_amount=x[14]\n",
    "    Tolls_amount=x[15]\n",
    "    Ehail_fee=x[16]\n",
    "    improvement_surcharge=x[17]\n",
    "    Total_amount=x[18]\n",
    "    Payment_type=x[19]\n",
    "    Trip_type=x[20]\n",
    "    return(vendor,Store_and_fwd_flag,day,time,hour,rate,Pickup_longitude,Pickup_latitude,Dropoff_longitude,Dropoff_latitude,Passenger_count,Trip_distance,Fare_amount,Extra,MTA_tax,Tip_amount,Tolls_amount,Ehail_fee,improvement_surcharge,Total_amount,Payment_type,Trip_type)\n",
    "\n",
    "info1 = data.map(info)\n",
    "    "
   ]
  },
  {
   "cell_type": "code",
   "execution_count": 100,
   "metadata": {
    "scrolled": true
   },
   "outputs": [
    {
     "data": {
      "text/plain": [
       "[(u'2',\n",
       "  u'N',\n",
       "  u'2015-09-01',\n",
       "  u'00:02:34',\n",
       "  u'00',\n",
       "  u'5',\n",
       "  u'-73.979484558105469',\n",
       "  u'40.684955596923828',\n",
       "  u'-73.97943115234375',\n",
       "  u'40.685020446777344',\n",
       "  u'1',\n",
       "  u'.00',\n",
       "  u'7.8',\n",
       "  u'0',\n",
       "  u'0',\n",
       "  u'1.95',\n",
       "  u'0',\n",
       "  u'',\n",
       "  u'0',\n",
       "  u'9.75',\n",
       "  u'1',\n",
       "  u'2')]"
      ]
     },
     "execution_count": 100,
     "metadata": {},
     "output_type": "execute_result"
    }
   ],
   "source": [
    "x= info1.take(1)\n",
    "x"
   ]
  },
  {
   "cell_type": "code",
   "execution_count": 76,
   "metadata": {},
   "outputs": [],
   "source": [
    "import datetime"
   ]
  },
  {
   "cell_type": "code",
   "execution_count": 77,
   "metadata": {},
   "outputs": [],
   "source": [
    "def days(x):\n",
    "    x=x.strip(\" \").split('-')\n",
    "    year = int(x[0])\n",
    "    month = int(x[1])\n",
    "    day = int(x[2])\n",
    "    return (day)\n",
    "\n",
    "days1 =info1.map(lambda x:x[2]).map(days)"
   ]
  },
  {
   "cell_type": "code",
   "execution_count": 78,
   "metadata": {},
   "outputs": [],
   "source": [
    "counts_days =days1.map(lambda x:(x,1)).reduceByKey(lambda x,y:x+y).collect()\n",
    "counts_days= sorted(counts_days)"
   ]
  },
  {
   "cell_type": "code",
   "execution_count": 80,
   "metadata": {},
   "outputs": [],
   "source": [
    "analysis = []\n",
    "for i in range(1,31,1):\n",
    "    x = datetime.datetime(2015,9,i)\n",
    "    analysis.append(x.strftime(\"%A\"))"
   ]
  },
  {
   "cell_type": "code",
   "execution_count": 81,
   "metadata": {},
   "outputs": [],
   "source": [
    "daily_demands =[]\n",
    "dates = range(0,30,1)\n",
    "days = []\n",
    "i = 0\n",
    "for i in range(0,30,1):\n",
    "    daily_demands.append(counts_days[i][1])\n",
    "    days.append(str(analysis[i].lower()))\n",
    "else:\n",
    "    pass"
   ]
  },
  {
   "cell_type": "code",
   "execution_count": 82,
   "metadata": {},
   "outputs": [],
   "source": [
    "abc = zip(analysis,daily_demands)\n",
    "weekly = {}\n",
    "for i in abc:\n",
    "    if i[0] not in weekly:\n",
    "        weekly[i[0]]=i[1]\n",
    "    else: \n",
    "        weekly[i[0]]+=i[1]"
   ]
  },
  {
   "cell_type": "code",
   "execution_count": 83,
   "metadata": {},
   "outputs": [
    {
     "data": {
      "text/plain": [
       "{'Friday': 222507,\n",
       " 'Monday': 165396,\n",
       " 'Saturday': 259733,\n",
       " 'Sunday': 220675,\n",
       " 'Thursday': 191555,\n",
       " 'Tuesday': 210256,\n",
       " 'Wednesday': 224804}"
      ]
     },
     "execution_count": 83,
     "metadata": {},
     "output_type": "execute_result"
    }
   ],
   "source": [
    "weekly"
   ]
  },
  {
   "cell_type": "code",
   "execution_count": 235,
   "metadata": {},
   "outputs": [
    {
     "data": {
      "image/png": "[encoded data removed]",
      "text/plain": [
       "<Figure size 432x288 with 1 Axes>"
      ]
     },
     "metadata": {},
     "output_type": "display_data"
    }
   ],
   "source": [
    "plt.plot(dates,daily_demands)\n",
    "plt.ylabel('Daily Rides')\n",
    "plt.xlabel('Days of Sept. 2015')\n",
    "plt.xticks(np.arange(1,31,2))\n",
    "plt.grid(axis = 'y')\n",
    "plt.savefig('Monthly')\n",
    "plt.show()"
   ]
  },
  {
   "cell_type": "code",
   "execution_count": 236,
   "metadata": {},
   "outputs": [
    {
     "data": {
      "image/png": "[encoded data removed]",
      "text/plain": [
       "<Figure size 432x288 with 1 Axes>"
      ]
     },
     "metadata": {},
     "output_type": "display_data"
    }
   ],
   "source": [
    "plt.bar(weekly.keys(),weekly.values())\n",
    "plt.xticks(rotation = 20)\n",
    "plt.ylabel('Total Rides in a month')\n",
    "plt.grid(axis = 'y')\n",
    "plt.savefig('Week')\n",
    "plt.show()"
   ]
  },
  {
   "cell_type": "code",
   "execution_count": 103,
   "metadata": {},
   "outputs": [],
   "source": [
    "payments = info1.flatMap(lambda x: x[20]).map(lambda r:(r,1)).reduceByKey(lambda x,y:x+y).collect()"
   ]
  },
  {
   "cell_type": "code",
   "execution_count": 107,
   "metadata": {},
   "outputs": [
    {
     "data": {
      "text/plain": [
       "[(u'1', 701287), (u'2', 783699), (u'3', 5498), (u'4', 4368), (u'5', 74)]"
      ]
     },
     "execution_count": 107,
     "metadata": {},
     "output_type": "execute_result"
    }
   ],
   "source": [
    "payments"
   ]
  },
  {
   "cell_type": "code",
   "execution_count": 239,
   "metadata": {
    "scrolled": true
   },
   "outputs": [
    {
     "data": {
      "image/png": "[encoded data removed]",
      "text/plain": [
       "<Figure size 432x288 with 1 Axes>"
      ]
     },
     "metadata": {},
     "output_type": "display_data"
    }
   ],
   "source": [
    "payments = sorted(payments)\n",
    "for i in payments:\n",
    "    plt.bar(i[0],i[1])\n",
    "plt.legend()\n",
    "plt.yscale('log')\n",
    "plt.xlabel('Payment Method')\n",
    "plt.ylabel('Log of total rides')\n",
    "plt.savefig('Overall Payment')\n",
    "plt.show()\n",
    "    "
   ]
  },
  {
   "cell_type": "code",
   "execution_count": 55,
   "metadata": {},
   "outputs": [],
   "source": [
    "vendors = info1.flatMap(lambda x: x[0]).map(lambda r:(r,1)).reduceByKey(lambda x,y:x+y).collect()"
   ]
  },
  {
   "cell_type": "code",
   "execution_count": 62,
   "metadata": {},
   "outputs": [
    {
     "name": "stdout",
     "output_type": "stream",
     "text": [
      "Vendor Distribution:\n",
      "Creative Mobile technologies: 21 %\n",
      "VeriFone Inc.: 78 %\n"
     ]
    }
   ],
   "source": [
    "print \"Vendor Distribution:\\nCreative Mobile technologies:\",vendors[0][1]*100/total_trips,\"%\\nVeriFone Inc.:\",vendors[1][1]*100/total_trips,'%'"
   ]
  },
  {
   "cell_type": "code",
   "execution_count": 91,
   "metadata": {},
   "outputs": [],
   "source": [
    "rates = info1.flatMap(lambda x: x[5]).map(lambda r:(r,1)).reduceByKey(lambda x,y:x+y).collect()"
   ]
  },
  {
   "cell_type": "code",
   "execution_count": 110,
   "metadata": {},
   "outputs": [
    {
     "data": {
      "text/plain": [
       "[(u'1', 1454464),\n",
       " (u'2', 4435),\n",
       " (u'3', 1117),\n",
       " (u'4', 925),\n",
       " (u'5', 33943),\n",
       " (u'6', 36),\n",
       " (u'9', 12)]"
      ]
     },
     "execution_count": 110,
     "metadata": {},
     "output_type": "execute_result"
    }
   ],
   "source": [
    "rates"
   ]
  },
  {
   "cell_type": "code",
   "execution_count": 240,
   "metadata": {
    "scrolled": true
   },
   "outputs": [
    {
     "data": {
      "image/png": "[encoded data removed]",
      "text/plain": [
       "<Figure size 432x288 with 1 Axes>"
      ]
     },
     "metadata": {},
     "output_type": "display_data"
    }
   ],
   "source": [
    "rates = sorted(rates)\n",
    "for i in rates:\n",
    "    plt.bar(i[0],i[1])\n",
    "plt.legend()\n",
    "plt.yscale('log')\n",
    "plt.xlabel('RateID')\n",
    "plt.ylabel('Log of total rides')\n",
    "plt.savefig('Overall RateID')\n",
    "plt.show()"
   ]
  },
  {
   "cell_type": "code",
   "execution_count": 111,
   "metadata": {},
   "outputs": [],
   "source": [
    "connections = info1.flatMap(lambda x: x[1]).map(lambda r:(r,1)).reduceByKey(lambda x,y:x+y).collect()"
   ]
  },
  {
   "cell_type": "code",
   "execution_count": 112,
   "metadata": {
    "scrolled": true
   },
   "outputs": [
    {
     "data": {
      "text/plain": [
       "[(u'Y', 8734), (u'N', 1486192)]"
      ]
     },
     "execution_count": 112,
     "metadata": {},
     "output_type": "execute_result"
    }
   ],
   "source": [
    "connections"
   ]
  },
  {
   "cell_type": "code",
   "execution_count": 113,
   "metadata": {},
   "outputs": [],
   "source": [
    "passengers = info1.flatMap(lambda x: x[10]).map(lambda r:(r,1)).reduceByKey(lambda x,y:x+y).collect()"
   ]
  },
  {
   "cell_type": "code",
   "execution_count": 114,
   "metadata": {},
   "outputs": [
    {
     "data": {
      "text/plain": [
       "[(u'1', 1255832),\n",
       " (u'9', 16),\n",
       " (u'0', 440),\n",
       " (u'8', 30),\n",
       " (u'3', 33812),\n",
       " (u'2', 115014),\n",
       " (u'5', 57907),\n",
       " (u'4', 9769),\n",
       " (u'7', 15),\n",
       " (u'6', 22091)]"
      ]
     },
     "execution_count": 114,
     "metadata": {},
     "output_type": "execute_result"
    }
   ],
   "source": [
    "passengers"
   ]
  },
  {
   "cell_type": "code",
   "execution_count": 153,
   "metadata": {},
   "outputs": [],
   "source": [
    "rev1 = info1.map(lambda x: [int(float(x[10])),float(x[19])])"
   ]
  },
  {
   "cell_type": "code",
   "execution_count": 199,
   "metadata": {},
   "outputs": [],
   "source": [
    "passenger_counts = dict(rev1.countByKey())"
   ]
  },
  {
   "cell_type": "code",
   "execution_count": 200,
   "metadata": {},
   "outputs": [
    {
     "name": "stdout",
     "output_type": "stream",
     "text": [
      "Rides summarized by number of passengers:\n",
      "\n"
     ]
    },
    {
     "data": {
      "text/plain": [
       "{0: 440,\n",
       " 1: 1255832,\n",
       " 2: 115014,\n",
       " 3: 33812,\n",
       " 4: 9769,\n",
       " 5: 57907,\n",
       " 6: 22091,\n",
       " 7: 15,\n",
       " 8: 30,\n",
       " 9: 16}"
      ]
     },
     "execution_count": 200,
     "metadata": {},
     "output_type": "execute_result"
    }
   ],
   "source": [
    "print \"Rides summarized by number of passengers:\\n\" \n",
    "passenger_counts"
   ]
  },
  {
   "cell_type": "code",
   "execution_count": 180,
   "metadata": {},
   "outputs": [],
   "source": [
    "sumCount = rev1.combineByKey(lambda value: (value, 1),\n",
    "                             lambda x, value: (x[0] + value, x[1] + 1),\n",
    "                             lambda x, y: (x[0] + y[0], x[1] + y[1]))\n",
    "\n",
    "sumbykey = sumCount.map(lambda (label, (value_sum, count)): (label, int(value_sum)))\n",
    "                    \n",
    "\n",
    "revenue=sumbykey.collect()"
   ]
  },
  {
   "cell_type": "code",
   "execution_count": 181,
   "metadata": {},
   "outputs": [
    {
     "data": {
      "text/plain": [
       "[(0, 5390),\n",
       " (1, 18733300),\n",
       " (2, 1823578),\n",
       " (3, 543574),\n",
       " (4, 158532),\n",
       " (5, 867092),\n",
       " (6, 338996),\n",
       " (7, 373),\n",
       " (8, 672),\n",
       " (9, 434)]"
      ]
     },
     "execution_count": 181,
     "metadata": {},
     "output_type": "execute_result"
    }
   ],
   "source": [
    "sorted(revenue)"
   ]
  },
  {
   "cell_type": "code",
   "execution_count": 192,
   "metadata": {},
   "outputs": [],
   "source": [
    "avg_pass_ride = sorted(zip(revenue,passenger_counts.values()))"
   ]
  },
  {
   "cell_type": "code",
   "execution_count": 194,
   "metadata": {},
   "outputs": [
    {
     "data": {
      "text/plain": [
       "[((0, 5390), 440),\n",
       " ((1, 18733300), 115014),\n",
       " ((2, 1823578), 9769),\n",
       " ((3, 543574), 57907),\n",
       " ((4, 158532), 22091),\n",
       " ((5, 867092), 15),\n",
       " ((6, 338996), 30),\n",
       " ((7, 373), 16),\n",
       " ((8, 672), 1255832),\n",
       " ((9, 434), 33812)]"
      ]
     },
     "execution_count": 194,
     "metadata": {},
     "output_type": "execute_result"
    }
   ],
   "source": [
    "avg_pass_ride"
   ]
  },
  {
   "cell_type": "code",
   "execution_count": 195,
   "metadata": {},
   "outputs": [],
   "source": [
    "average_revenue_ride= {}\n",
    "for i in avg_pass_ride:\n",
    "        average_revenue_ride[i[0][0]] =round(float(i[0][1]/i[1]))\n",
    "        "
   ]
  },
  {
   "cell_type": "code",
   "execution_count": 241,
   "metadata": {},
   "outputs": [
    {
     "data": {
      "image/png": "[encoded data removed]",
      "text/plain": [
       "<Figure size 432x288 with 1 Axes>"
      ]
     },
     "metadata": {},
     "output_type": "display_data"
    }
   ],
   "source": [
    "plt.bar(list(x[0]for x in revenue),list(x[1] for x in revenue))\n",
    "plt.xticks(np.arange(0,8,1))\n",
    "plt.xlabel('passengers')\n",
    "plt.ylabel('Total revenue')\n",
    "plt.yscale('log')\n",
    "plt.savefig('Total Revenue_Pass')\n",
    "plt.show()"
   ]
  },
  {
   "cell_type": "code",
   "execution_count": 242,
   "metadata": {},
   "outputs": [
    {
     "data": {
      "image/png": "[encoded data removed]",
      "text/plain": [
       "<Figure size 432x288 with 1 Axes>"
      ]
     },
     "metadata": {},
     "output_type": "display_data"
    }
   ],
   "source": [
    "plt.bar(list(passenger_counts.keys()),list(passenger_counts.values()),label = 'Number of rides')\n",
    "plt.scatter(list(x[0]for x in revenue),list(x[1] for x in revenue),label = 'Amount')\n",
    "plt.xticks(np.arange(0,8,1))\n",
    "plt.plot(list(average_revenue_ride.keys()),list(average_revenue_ride.values()),label = 'Average Rev/ride',color = 'red')\n",
    "plt.legend()\n",
    "plt.xlabel('passengers')\n",
    "plt.ylabel('Number of rides')\n",
    "plt.yscale('log')\n",
    "plt.savefig('Average')\n",
    "plt.show()"
   ]
  },
  {
   "cell_type": "code",
   "execution_count": null,
   "metadata": {},
   "outputs": [],
   "source": [
    "sc.stop()"
   ]
  }
 ],
 "metadata": {
  "kernelspec": {
   "display_name": "Python 3",
   "language": "python",
   "name": "python3"
  },
  "language_info": {
   "codemirror_mode": {
    "name": "ipython",
    "version": 3
   },
   "file_extension": ".py",
   "mimetype": "text/x-python",
   "name": "python",
   "nbconvert_exporter": "python",
   "pygments_lexer": "ipython3",
   "version": "3.6.4"
  }
 },
 "nbformat": 4,
 "nbformat_minor": 2
}
